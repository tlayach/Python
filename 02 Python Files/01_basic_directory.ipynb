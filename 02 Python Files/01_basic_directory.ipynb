{
 "cells": [
  {
   "cell_type": "code",
   "execution_count": 10,
   "metadata": {},
   "outputs": [],
   "source": [
    "import os"
   ]
  },
  {
   "cell_type": "code",
   "execution_count": 11,
   "metadata": {
    "tags": []
   },
   "outputs": [
    {
     "name": "stdout",
     "output_type": "stream",
     "text": [
      "001_os .ipynb\n",
      "002_glob .ipynb\n",
      "003_os_walk .ipynb\n",
      "00_basic_directory .ipynb\n",
      "01_basic_directory .ipynb\n",
      "02_basic_files_text .ipynb\n",
      "03_basic_files_csv .ipynb\n",
      "alice30 .txt\n",
      "Directory .ipynb\n"
     ]
    }
   ],
   "source": [
    "for filename in os.listdir(\".\"):\n",
    "    name, extension = os.path.splitext(filename)\n",
    "    print(name, extension)"
   ]
  },
  {
   "cell_type": "code",
   "execution_count": 12,
   "metadata": {},
   "outputs": [
    {
     "data": {
      "text/plain": [
       "['./001_os.ipynb',\n",
       " './002_glob.ipynb',\n",
       " './003_os_walk.ipynb',\n",
       " './00_basic_directory.ipynb',\n",
       " './01_basic_directory.ipynb',\n",
       " './02_basic_files_text.ipynb',\n",
       " './03_basic_files_csv.ipynb',\n",
       " './alice30.txt',\n",
       " './Directory.ipynb']"
      ]
     },
     "execution_count": 12,
     "metadata": {},
     "output_type": "execute_result"
    }
   ],
   "source": [
    "path = \"./\"\n",
    "[os.path.join(path, file) for file in os.listdir(path)]"
   ]
  },
  {
   "cell_type": "code",
   "execution_count": 13,
   "metadata": {},
   "outputs": [
    {
     "data": {
      "text/plain": [
       "'.'"
      ]
     },
     "execution_count": 13,
     "metadata": {},
     "output_type": "execute_result"
    }
   ],
   "source": [
    "os.path.dirname(\"./\")"
   ]
  },
  {
   "cell_type": "code",
   "execution_count": null,
   "metadata": {},
   "outputs": [],
   "source": []
  }
 ],
 "metadata": {
  "kernelspec": {
   "display_name": "Python 3.10.7 64-bit",
   "language": "python",
   "name": "python3"
  },
  "language_info": {
   "codemirror_mode": {
    "name": "ipython",
    "version": 3
   },
   "file_extension": ".py",
   "mimetype": "text/x-python",
   "name": "python",
   "nbconvert_exporter": "python",
   "pygments_lexer": "ipython3",
   "version": "3.11.0 (main, Oct 24 2022, 18:26:48) [MSC v.1933 64 bit (AMD64)]"
  },
  "orig_nbformat": 2,
  "vscode": {
   "interpreter": {
    "hash": "9b4d75ac280b6c7c3aa43866cb82dc88915409b55fec83a093dd0284cb58708e"
   }
  }
 },
 "nbformat": 4,
 "nbformat_minor": 2
}
