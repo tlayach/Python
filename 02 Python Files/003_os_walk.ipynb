{
 "cells": [
  {
   "cell_type": "code",
   "execution_count": 12,
   "metadata": {},
   "outputs": [],
   "source": [
    "import os"
   ]
  },
  {
   "cell_type": "code",
   "execution_count": 13,
   "metadata": {},
   "outputs": [],
   "source": [
    "def top_down_walk() -> None:\n",
    "    for dirpath, dirnames, files in os.walk(top=\".\"):\n",
    "        print(f\"Directory: {dirpath}\")\n",
    "        \n",
    "        print(\"Includes these directories\")\n",
    "        for dirname in dirnames:\n",
    "            print(dirname)\n",
    "        \n",
    "        print(\"Infludes theses files\")\n",
    "        for filename in files:\n",
    "            print(filename)\n",
    "        \n",
    "        print()"
   ]
  },
  {
   "cell_type": "code",
   "execution_count": 14,
   "metadata": {},
   "outputs": [
    {
     "name": "stdout",
     "output_type": "stream",
     "text": [
      "Directory: .\n",
      "Includes these directories\n",
      "Infludes theses files\n",
      "001_os.ipynb\n",
      "002_glob.ipynb\n",
      "003_os_walk.ipynb\n",
      "00_basic_directory.ipynb\n",
      "01_basic_directory.ipynb\n",
      "02_basic_files_text.ipynb\n",
      "03_basic_files_csv.ipynb\n",
      "alice30.txt\n",
      "Directory.ipynb\n",
      "\n"
     ]
    }
   ],
   "source": [
    "if __name__ == \"__main__\":\n",
    "    top_down_walk()"
   ]
  },
  {
   "cell_type": "code",
   "execution_count": null,
   "metadata": {},
   "outputs": [],
   "source": []
  }
 ],
 "metadata": {
  "kernelspec": {
   "display_name": "Python 3.10.7 64-bit",
   "language": "python",
   "name": "python3"
  },
  "language_info": {
   "codemirror_mode": {
    "name": "ipython",
    "version": 3
   },
   "file_extension": ".py",
   "mimetype": "text/x-python",
   "name": "python",
   "nbconvert_exporter": "python",
   "pygments_lexer": "ipython3",
   "version": "3.10.7"
  },
  "orig_nbformat": 4,
  "vscode": {
   "interpreter": {
    "hash": "9b4d75ac280b6c7c3aa43866cb82dc88915409b55fec83a093dd0284cb58708e"
   }
  }
 },
 "nbformat": 4,
 "nbformat_minor": 2
}
