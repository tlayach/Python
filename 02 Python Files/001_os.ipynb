{
 "cells": [
  {
   "cell_type": "code",
   "execution_count": 44,
   "metadata": {},
   "outputs": [],
   "source": [
    "import os"
   ]
  },
  {
   "cell_type": "code",
   "execution_count": 45,
   "metadata": {},
   "outputs": [],
   "source": [
    "def display_cwd() -> None:\n",
    "    cwd = os.getcwd()\n",
    "    print(f\"Current working directory is {cwd}\")"
   ]
  },
  {
   "cell_type": "code",
   "execution_count": 46,
   "metadata": {},
   "outputs": [],
   "source": [
    "def up_one_directory_level() -> None:\n",
    "    os.chdir(path=\"../\")"
   ]
  },
  {
   "cell_type": "code",
   "execution_count": 47,
   "metadata": {},
   "outputs": [],
   "source": [
    "from datetime import datetime\n",
    "\n",
    "\n",
    "def format_datetime(timestamp: float) -> str:\n",
    "    utc_timestamp = datetime.utcfromtimestamp(timestamp)\n",
    "    formated_date = utc_timestamp.strftime(\"%d %b %Y %H %M %S\")\n",
    "    return formated_date"
   ]
  },
  {
   "cell_type": "code",
   "execution_count": 48,
   "metadata": {},
   "outputs": [],
   "source": [
    "def display_entries_in_directory(directory: str) -> None:\n",
    "    with os.scandir(directory) as entries:\n",
    "        for entry in entries:\n",
    "            print(f\"Name: {entry.name}\")\n",
    "            info = entry.stat()\n",
    "            # print(f\"Creation Time: {format_datetime(timestamp=info.st_birthtime)}\")  # mac\n",
    "            print(f\"Creation Time: {format_datetime(timestamp=info.st_ctime)}\")  # windows\n",
    "            print(f\"Last Access Time: {format_datetime(info.st_atime)}\")\n",
    "            print(f\"Size: {info.st_size}\")"
   ]
  },
  {
   "cell_type": "code",
   "execution_count": 49,
   "metadata": {},
   "outputs": [],
   "source": [
    "def display_directories(directory: str) -> None:\n",
    "    with os.scandir(path=directory) as entries:\n",
    "        for entry in entries:\n",
    "            if entry.is_dir():\n",
    "                print(f\"Directory name {entry.name}\")"
   ]
  },
  {
   "cell_type": "code",
   "execution_count": 50,
   "metadata": {},
   "outputs": [],
   "source": [
    "def display_files(directory: str) -> None:\n",
    "    with os.scandir(path=directory) as entries:\n",
    "        for entry in entries:\n",
    "            if entry.is_file():\n",
    "                print(f\"File name {entry.name}\")"
   ]
  },
  {
   "cell_type": "code",
   "execution_count": 51,
   "metadata": {},
   "outputs": [
    {
     "name": "stdout",
     "output_type": "stream",
     "text": [
      "Current working directory is c:\\\n",
      "Current working directory is c:\\\n",
      "Name: $Recycle.Bin\n",
      "Creation Time: 07 Dec 2019 09 14 52\n",
      "Last Access Time: 20 Sep 2022 13 46 53\n",
      "Size: 0\n",
      "Name: $WinREAgent\n",
      "Creation Time: 07 Sep 2022 13 21 40\n",
      "Last Access Time: 20 Sep 2022 13 37 52\n",
      "Size: 0\n",
      "Name: .rnd\n",
      "Creation Time: 05 Jul 2022 12 16 00\n",
      "Last Access Time: 07 Jul 2022 07 16 04\n",
      "Size: 1024\n",
      "Name: adidas\n",
      "Creation Time: 05 Jul 2022 11 17 44\n",
      "Last Access Time: 21 Sep 2022 07 51 21\n",
      "Size: 0\n",
      "Name: Config.Msi\n",
      "Creation Time: 19 Sep 2022 12 06 20\n",
      "Last Access Time: 20 Sep 2022 13 37 52\n",
      "Size: 0\n",
      "Name: Documents and Settings\n",
      "Creation Time: 05 Jul 2022 12 11 41\n",
      "Last Access Time: 05 Jul 2022 12 11 41\n",
      "Size: 0\n",
      "Name: DumpStack.log\n",
      "Creation Time: 05 Jul 2022 20 09 12\n",
      "Last Access Time: 27 Aug 2022 00 28 26\n",
      "Size: 8192\n",
      "Name: DumpStack.log.tmp\n",
      "Creation Time: 05 Jul 2022 20 09 12\n",
      "Last Access Time: 21 Sep 2022 06 27 19\n",
      "Size: 8192\n",
      "Name: Intel\n",
      "Creation Time: 05 Jul 2022 20 09 23\n",
      "Last Access Time: 21 Sep 2022 06 27 21\n",
      "Size: 0\n",
      "Name: OneDriveTemp\n",
      "Creation Time: 05 Jul 2022 13 08 08\n",
      "Last Access Time: 20 Sep 2022 13 37 52\n",
      "Size: 0\n",
      "Name: pagefile.sys\n",
      "Creation Time: 05 Jul 2022 20 09 12\n",
      "Last Access Time: 21 Sep 2022 06 27 19\n",
      "Size: 2550136832\n",
      "Name: PerfLogs\n",
      "Creation Time: 07 Dec 2019 09 14 52\n",
      "Last Access Time: 20 Sep 2022 13 37 52\n",
      "Size: 0\n",
      "Name: Program Files\n",
      "Creation Time: 07 Dec 2019 09 14 52\n",
      "Last Access Time: 21 Sep 2022 07 40 12\n",
      "Size: 0\n",
      "Name: Program Files (x86)\n",
      "Creation Time: 07 Dec 2019 09 14 52\n",
      "Last Access Time: 21 Sep 2022 07 49 23\n",
      "Size: 0\n",
      "Name: ProgramData\n",
      "Creation Time: 07 Dec 2019 09 14 52\n",
      "Last Access Time: 21 Sep 2022 07 35 41\n",
      "Size: 0\n",
      "Name: Recovery\n",
      "Creation Time: 05 Jul 2022 12 11 46\n",
      "Last Access Time: 20 Sep 2022 13 37 58\n",
      "Size: 0\n",
      "Name: swapfile.sys\n",
      "Creation Time: 05 Jul 2022 20 09 12\n",
      "Last Access Time: 21 Sep 2022 06 27 19\n",
      "Size: 16777216\n",
      "Name: System Volume Information\n",
      "Creation Time: 05 Jul 2022 20 47 22\n",
      "Last Access Time: 21 Sep 2022 06 48 12\n",
      "Size: 0\n",
      "Name: temp\n",
      "Creation Time: 05 Jul 2022 11 17 43\n",
      "Last Access Time: 20 Sep 2022 13 37 58\n",
      "Size: 0\n",
      "Name: Users\n",
      "Creation Time: 07 Dec 2019 09 03 44\n",
      "Last Access Time: 21 Sep 2022 07 53 26\n",
      "Size: 0\n",
      "Name: Windows\n",
      "Creation Time: 07 Dec 2019 09 03 44\n",
      "Last Access Time: 21 Sep 2022 07 53 16\n",
      "Size: 0\n",
      "Name: ~FeatureUpdateTemp\n",
      "Creation Time: 06 Jul 2022 09 58 54\n",
      "Last Access Time: 20 Sep 2022 13 46 52\n",
      "Size: 0\n",
      "Directory name $Recycle.Bin\n",
      "Directory name $WinREAgent\n",
      "Directory name adidas\n",
      "Directory name Config.Msi\n",
      "Directory name Documents and Settings\n",
      "Directory name Intel\n",
      "Directory name OneDriveTemp\n",
      "Directory name PerfLogs\n",
      "Directory name Program Files\n",
      "Directory name Program Files (x86)\n",
      "Directory name ProgramData\n",
      "Directory name Recovery\n",
      "Directory name System Volume Information\n",
      "Directory name temp\n",
      "Directory name Users\n",
      "Directory name Windows\n",
      "Directory name ~FeatureUpdateTemp\n",
      "File name .rnd\n",
      "File name DumpStack.log\n",
      "File name DumpStack.log.tmp\n",
      "File name pagefile.sys\n",
      "File name swapfile.sys\n"
     ]
    }
   ],
   "source": [
    "if __name__ == \"__main__\":\n",
    "    display_cwd()\n",
    "    up_one_directory_level()\n",
    "    display_cwd()\n",
    "    display_entries_in_directory(directory=\".\")\n",
    "    display_directories(directory=\".\")\n",
    "    display_files(directory=\".\")"
   ]
  }
 ],
 "metadata": {
  "kernelspec": {
   "display_name": "Python 3.10.7 64-bit",
   "language": "python",
   "name": "python3"
  },
  "language_info": {
   "codemirror_mode": {
    "name": "ipython",
    "version": 3
   },
   "file_extension": ".py",
   "mimetype": "text/x-python",
   "name": "python",
   "nbconvert_exporter": "python",
   "pygments_lexer": "ipython3",
   "version": "3.11.0"
  },
  "orig_nbformat": 4,
  "vscode": {
   "interpreter": {
    "hash": "9b4d75ac280b6c7c3aa43866cb82dc88915409b55fec83a093dd0284cb58708e"
   }
  }
 },
 "nbformat": 4,
 "nbformat_minor": 2
}
