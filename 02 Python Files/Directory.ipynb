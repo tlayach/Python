{
 "cells": [
  {
   "cell_type": "code",
   "execution_count": 14,
   "metadata": {},
   "outputs": [],
   "source": [
    "import os"
   ]
  },
  {
   "cell_type": "code",
   "execution_count": 15,
   "metadata": {
    "tags": []
   },
   "outputs": [
    {
     "name": "stdout",
     "output_type": "stream",
     "text": [
      "00_basic_directory .ipynb\n",
      "01_basic_directory .ipynb\n",
      "02_basic_files_text .ipynb\n",
      "03_basic_files_csv .ipynb\n",
      "alice30 .txt\n",
      "Directory .ipynb\n"
     ]
    }
   ],
   "source": [
    "for filename in os.listdir(path=\".\"):\n",
    "    name, extension = os.path.splitext(p=filename)\n",
    "    print(name, extension)"
   ]
  },
  {
   "cell_type": "code",
   "execution_count": 16,
   "metadata": {},
   "outputs": [],
   "source": [
    "from os import walk"
   ]
  },
  {
   "cell_type": "code",
   "execution_count": 17,
   "metadata": {},
   "outputs": [
    {
     "name": "stdout",
     "output_type": "stream",
     "text": [
      ". [] ['00_basic_directory.ipynb', '01_basic_directory.ipynb', '02_basic_files_text.ipynb', '03_basic_files_csv.ipynb', 'alice30.txt', 'Directory.ipynb']\n"
     ]
    }
   ],
   "source": [
    "for dirpath, dirnames, filenames in walk(top=\".\"):\n",
    "    print(dirpath, dirnames, filenames)"
   ]
  },
  {
   "cell_type": "code",
   "execution_count": null,
   "metadata": {},
   "outputs": [],
   "source": []
  }
 ],
 "metadata": {
  "interpreter": {
   "hash": "26de051ba29f2982a8de78e945f0abaf191376122a1563185a90213a26c5da77"
  },
  "kernelspec": {
   "display_name": "Python 3.10.4 64-bit",
   "language": "python",
   "name": "python3"
  },
  "language_info": {
   "codemirror_mode": {
    "name": "ipython",
    "version": 3
   },
   "file_extension": ".py",
   "mimetype": "text/x-python",
   "name": "python",
   "nbconvert_exporter": "python",
   "pygments_lexer": "ipython3",
   "version": "3.10.4"
  },
  "orig_nbformat": 2
 },
 "nbformat": 4,
 "nbformat_minor": 2
}
