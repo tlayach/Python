{
 "cells": [
  {
   "cell_type": "markdown",
   "source": [
    "# Lunar Missions"
   ],
   "metadata": {
    "collapsed": false
   },
   "id": "ba667293cd2388cb"
  },
  {
   "cell_type": "markdown",
   "source": [
    "https://pandas.pydata.org/"
   ],
   "metadata": {
    "collapsed": false
   },
   "id": "2cfdebdaf641ce12"
  },
  {
   "cell_type": "code",
   "execution_count": 1,
   "outputs": [],
   "source": [
    "import pandas as pd"
   ],
   "metadata": {
    "collapsed": false,
    "ExecuteTime": {
     "end_time": "2023-09-26T22:02:02.032724600Z",
     "start_time": "2023-09-26T22:02:00.495073900Z"
    }
   },
   "id": "2f3cefab343bdcc9"
  },
  {
   "cell_type": "markdown",
   "source": [
    "Read json file."
   ],
   "metadata": {
    "collapsed": false
   },
   "id": "e51479e30bc9fa0"
  },
  {
   "cell_type": "code",
   "execution_count": 2,
   "outputs": [
    {
     "data": {
      "text/plain": "  mission_name  start_date    end_date        country    rocket_name  \\\n0    Apollo 11  1969-07-16  1969-07-24  United States       Saturn V   \n1    Chang'e 3  2013-12-02  2013-12-14          China  Long March 3B   \n2       Luna 2  1959-09-12  1959-09-14   Soviet Union           Luna   \n3    Apollo 15  1971-07-26  1971-08-07  United States       Saturn V   \n4       Luna 9  1966-01-31  1966-02-06   Soviet Union      Molniya-L   \n\n  rocket_type  \n0       Heavy  \n1      Medium  \n2      Medium  \n3       Heavy  \n4      Medium  ",
      "text/html": "<div>\n<style scoped>\n    .dataframe tbody tr th:only-of-type {\n        vertical-align: middle;\n    }\n\n    .dataframe tbody tr th {\n        vertical-align: top;\n    }\n\n    .dataframe thead th {\n        text-align: right;\n    }\n</style>\n<table border=\"1\" class=\"dataframe\">\n  <thead>\n    <tr style=\"text-align: right;\">\n      <th></th>\n      <th>mission_name</th>\n      <th>start_date</th>\n      <th>end_date</th>\n      <th>country</th>\n      <th>rocket_name</th>\n      <th>rocket_type</th>\n    </tr>\n  </thead>\n  <tbody>\n    <tr>\n      <th>0</th>\n      <td>Apollo 11</td>\n      <td>1969-07-16</td>\n      <td>1969-07-24</td>\n      <td>United States</td>\n      <td>Saturn V</td>\n      <td>Heavy</td>\n    </tr>\n    <tr>\n      <th>1</th>\n      <td>Chang'e 3</td>\n      <td>2013-12-02</td>\n      <td>2013-12-14</td>\n      <td>China</td>\n      <td>Long March 3B</td>\n      <td>Medium</td>\n    </tr>\n    <tr>\n      <th>2</th>\n      <td>Luna 2</td>\n      <td>1959-09-12</td>\n      <td>1959-09-14</td>\n      <td>Soviet Union</td>\n      <td>Luna</td>\n      <td>Medium</td>\n    </tr>\n    <tr>\n      <th>3</th>\n      <td>Apollo 15</td>\n      <td>1971-07-26</td>\n      <td>1971-08-07</td>\n      <td>United States</td>\n      <td>Saturn V</td>\n      <td>Heavy</td>\n    </tr>\n    <tr>\n      <th>4</th>\n      <td>Luna 9</td>\n      <td>1966-01-31</td>\n      <td>1966-02-06</td>\n      <td>Soviet Union</td>\n      <td>Molniya-L</td>\n      <td>Medium</td>\n    </tr>\n  </tbody>\n</table>\n</div>"
     },
     "execution_count": 2,
     "metadata": {},
     "output_type": "execute_result"
    }
   ],
   "source": [
    "df = pd.read_json(\"./01_lunar_missions.json\")\n",
    "df"
   ],
   "metadata": {
    "collapsed": false,
    "ExecuteTime": {
     "end_time": "2023-09-26T22:02:02.053205200Z",
     "start_time": "2023-09-26T22:02:02.032724600Z"
    }
   },
   "id": "de4a169630c8c301"
  },
  {
   "cell_type": "markdown",
   "source": [
    "Number of rows"
   ],
   "metadata": {
    "collapsed": false
   },
   "id": "40c5ac5ca08ce71c"
  },
  {
   "cell_type": "code",
   "execution_count": 3,
   "outputs": [
    {
     "data": {
      "text/plain": "5"
     },
     "execution_count": 3,
     "metadata": {},
     "output_type": "execute_result"
    }
   ],
   "source": [
    "df.shape[0]"
   ],
   "metadata": {
    "collapsed": false,
    "ExecuteTime": {
     "end_time": "2023-09-26T22:02:04.563664700Z",
     "start_time": "2023-09-26T22:02:04.520404800Z"
    }
   },
   "id": "26e968f6bfb2de1f"
  },
  {
   "cell_type": "markdown",
   "source": [
    "Column Types"
   ],
   "metadata": {
    "collapsed": false
   },
   "id": "806bb164209b98e6"
  },
  {
   "cell_type": "code",
   "execution_count": 4,
   "outputs": [
    {
     "data": {
      "text/plain": "mission_name    object\nstart_date      object\nend_date        object\ncountry         object\nrocket_name     object\nrocket_type     object\ndtype: object"
     },
     "execution_count": 4,
     "metadata": {},
     "output_type": "execute_result"
    }
   ],
   "source": [
    "df.dtypes"
   ],
   "metadata": {
    "collapsed": false,
    "ExecuteTime": {
     "end_time": "2023-09-26T22:02:06.477933200Z",
     "start_time": "2023-09-26T22:02:06.466692300Z"
    }
   },
   "id": "d7b869b5c8c1bf9f"
  },
  {
   "cell_type": "code",
   "execution_count": 5,
   "outputs": [],
   "source": [
    "# convert columns to string\n",
    "df[\"mission_name\"] = df[\"mission_name\"].astype(\"string\")\n",
    "df[\"country\"] = df[\"country\"].astype(\"string\")\n",
    "df[\"rocket_name\"] = df[\"rocket_name\"].astype(\"string\")\n",
    "df[\"rocket_type\"] = df[\"rocket_type\"].astype(\"string\")\n",
    "\n",
    "# convert columns to datetime\n",
    "df[\"start_date\"] = pd.to_datetime(df[\"start_date\"], errors=\"coerce\")\n",
    "df[\"end_date\"] = pd.to_datetime(df[\"end_date\"], errors=\"coerce\")"
   ],
   "metadata": {
    "collapsed": false,
    "ExecuteTime": {
     "end_time": "2023-09-26T22:02:07.302135200Z",
     "start_time": "2023-09-26T22:02:07.279710Z"
    }
   },
   "id": "15deed2cf8878f24"
  },
  {
   "cell_type": "code",
   "execution_count": 6,
   "outputs": [
    {
     "data": {
      "text/plain": "mission_name    string[python]\nstart_date      datetime64[ns]\nend_date        datetime64[ns]\ncountry         string[python]\nrocket_name     string[python]\nrocket_type     string[python]\ndtype: object"
     },
     "execution_count": 6,
     "metadata": {},
     "output_type": "execute_result"
    }
   ],
   "source": [
    "df.dtypes"
   ],
   "metadata": {
    "collapsed": false,
    "ExecuteTime": {
     "end_time": "2023-09-26T22:02:08.180886600Z",
     "start_time": "2023-09-26T22:02:08.150827900Z"
    }
   },
   "id": "e51670fd1398e08e"
  },
  {
   "cell_type": "code",
   "execution_count": 7,
   "outputs": [
    {
     "data": {
      "text/plain": "  mission_name start_date   end_date        country    rocket_name rocket_type\n2       Luna 2 1959-09-12 1959-09-14   Soviet Union           Luna      Medium\n4       Luna 9 1966-01-31 1966-02-06   Soviet Union      Molniya-L      Medium\n0    Apollo 11 1969-07-16 1969-07-24  United States       Saturn V       Heavy\n3    Apollo 15 1971-07-26 1971-08-07  United States       Saturn V       Heavy\n1    Chang'e 3 2013-12-02 2013-12-14          China  Long March 3B      Medium",
      "text/html": "<div>\n<style scoped>\n    .dataframe tbody tr th:only-of-type {\n        vertical-align: middle;\n    }\n\n    .dataframe tbody tr th {\n        vertical-align: top;\n    }\n\n    .dataframe thead th {\n        text-align: right;\n    }\n</style>\n<table border=\"1\" class=\"dataframe\">\n  <thead>\n    <tr style=\"text-align: right;\">\n      <th></th>\n      <th>mission_name</th>\n      <th>start_date</th>\n      <th>end_date</th>\n      <th>country</th>\n      <th>rocket_name</th>\n      <th>rocket_type</th>\n    </tr>\n  </thead>\n  <tbody>\n    <tr>\n      <th>2</th>\n      <td>Luna 2</td>\n      <td>1959-09-12</td>\n      <td>1959-09-14</td>\n      <td>Soviet Union</td>\n      <td>Luna</td>\n      <td>Medium</td>\n    </tr>\n    <tr>\n      <th>4</th>\n      <td>Luna 9</td>\n      <td>1966-01-31</td>\n      <td>1966-02-06</td>\n      <td>Soviet Union</td>\n      <td>Molniya-L</td>\n      <td>Medium</td>\n    </tr>\n    <tr>\n      <th>0</th>\n      <td>Apollo 11</td>\n      <td>1969-07-16</td>\n      <td>1969-07-24</td>\n      <td>United States</td>\n      <td>Saturn V</td>\n      <td>Heavy</td>\n    </tr>\n    <tr>\n      <th>3</th>\n      <td>Apollo 15</td>\n      <td>1971-07-26</td>\n      <td>1971-08-07</td>\n      <td>United States</td>\n      <td>Saturn V</td>\n      <td>Heavy</td>\n    </tr>\n    <tr>\n      <th>1</th>\n      <td>Chang'e 3</td>\n      <td>2013-12-02</td>\n      <td>2013-12-14</td>\n      <td>China</td>\n      <td>Long March 3B</td>\n      <td>Medium</td>\n    </tr>\n  </tbody>\n</table>\n</div>"
     },
     "execution_count": 7,
     "metadata": {},
     "output_type": "execute_result"
    }
   ],
   "source": [
    "df.sort_values([\"start_date\"], ascending=True)"
   ],
   "metadata": {
    "collapsed": false,
    "ExecuteTime": {
     "end_time": "2023-09-26T22:02:08.965317400Z",
     "start_time": "2023-09-26T22:02:08.942451500Z"
    }
   },
   "id": "afa8c5f5dbc79c76"
  },
  {
   "cell_type": "markdown",
   "source": [
    "Add mission duration."
   ],
   "metadata": {
    "collapsed": false
   },
   "id": "7f5b2b5d3ca253f5"
  },
  {
   "cell_type": "code",
   "execution_count": 8,
   "outputs": [
    {
     "data": {
      "text/plain": "  mission_name start_date   end_date        country    rocket_name  \\\n1    Chang'e 3 2013-12-02 2013-12-14          China  Long March 3B   \n3    Apollo 15 1971-07-26 1971-08-07  United States       Saturn V   \n0    Apollo 11 1969-07-16 1969-07-24  United States       Saturn V   \n4       Luna 9 1966-01-31 1966-02-06   Soviet Union      Molniya-L   \n2       Luna 2 1959-09-12 1959-09-14   Soviet Union           Luna   \n\n  rocket_type  duration_days  \n1      Medium             12  \n3       Heavy             12  \n0       Heavy              8  \n4      Medium              6  \n2      Medium              2  ",
      "text/html": "<div>\n<style scoped>\n    .dataframe tbody tr th:only-of-type {\n        vertical-align: middle;\n    }\n\n    .dataframe tbody tr th {\n        vertical-align: top;\n    }\n\n    .dataframe thead th {\n        text-align: right;\n    }\n</style>\n<table border=\"1\" class=\"dataframe\">\n  <thead>\n    <tr style=\"text-align: right;\">\n      <th></th>\n      <th>mission_name</th>\n      <th>start_date</th>\n      <th>end_date</th>\n      <th>country</th>\n      <th>rocket_name</th>\n      <th>rocket_type</th>\n      <th>duration_days</th>\n    </tr>\n  </thead>\n  <tbody>\n    <tr>\n      <th>1</th>\n      <td>Chang'e 3</td>\n      <td>2013-12-02</td>\n      <td>2013-12-14</td>\n      <td>China</td>\n      <td>Long March 3B</td>\n      <td>Medium</td>\n      <td>12</td>\n    </tr>\n    <tr>\n      <th>3</th>\n      <td>Apollo 15</td>\n      <td>1971-07-26</td>\n      <td>1971-08-07</td>\n      <td>United States</td>\n      <td>Saturn V</td>\n      <td>Heavy</td>\n      <td>12</td>\n    </tr>\n    <tr>\n      <th>0</th>\n      <td>Apollo 11</td>\n      <td>1969-07-16</td>\n      <td>1969-07-24</td>\n      <td>United States</td>\n      <td>Saturn V</td>\n      <td>Heavy</td>\n      <td>8</td>\n    </tr>\n    <tr>\n      <th>4</th>\n      <td>Luna 9</td>\n      <td>1966-01-31</td>\n      <td>1966-02-06</td>\n      <td>Soviet Union</td>\n      <td>Molniya-L</td>\n      <td>Medium</td>\n      <td>6</td>\n    </tr>\n    <tr>\n      <th>2</th>\n      <td>Luna 2</td>\n      <td>1959-09-12</td>\n      <td>1959-09-14</td>\n      <td>Soviet Union</td>\n      <td>Luna</td>\n      <td>Medium</td>\n      <td>2</td>\n    </tr>\n  </tbody>\n</table>\n</div>"
     },
     "execution_count": 8,
     "metadata": {},
     "output_type": "execute_result"
    }
   ],
   "source": [
    "df[\"duration_days\"] = (df[\"end_date\"] - df[\"start_date\"]).dt.days\n",
    "df.sort_values([\"duration_days\"], ascending=False)"
   ],
   "metadata": {
    "collapsed": false,
    "ExecuteTime": {
     "end_time": "2023-09-26T22:02:10.756677600Z",
     "start_time": "2023-09-26T22:02:10.708615800Z"
    }
   },
   "id": "1c948fbac96d206f"
  },
  {
   "cell_type": "markdown",
   "source": [
    "Filter country United States."
   ],
   "metadata": {
    "collapsed": false
   },
   "id": "67525a16d466daf3"
  },
  {
   "cell_type": "code",
   "execution_count": 9,
   "outputs": [
    {
     "data": {
      "text/plain": "  mission_name start_date   end_date        country rocket_name rocket_type  \\\n0    Apollo 11 1969-07-16 1969-07-24  United States    Saturn V       Heavy   \n3    Apollo 15 1971-07-26 1971-08-07  United States    Saturn V       Heavy   \n\n   duration_days  \n0              8  \n3             12  ",
      "text/html": "<div>\n<style scoped>\n    .dataframe tbody tr th:only-of-type {\n        vertical-align: middle;\n    }\n\n    .dataframe tbody tr th {\n        vertical-align: top;\n    }\n\n    .dataframe thead th {\n        text-align: right;\n    }\n</style>\n<table border=\"1\" class=\"dataframe\">\n  <thead>\n    <tr style=\"text-align: right;\">\n      <th></th>\n      <th>mission_name</th>\n      <th>start_date</th>\n      <th>end_date</th>\n      <th>country</th>\n      <th>rocket_name</th>\n      <th>rocket_type</th>\n      <th>duration_days</th>\n    </tr>\n  </thead>\n  <tbody>\n    <tr>\n      <th>0</th>\n      <td>Apollo 11</td>\n      <td>1969-07-16</td>\n      <td>1969-07-24</td>\n      <td>United States</td>\n      <td>Saturn V</td>\n      <td>Heavy</td>\n      <td>8</td>\n    </tr>\n    <tr>\n      <th>3</th>\n      <td>Apollo 15</td>\n      <td>1971-07-26</td>\n      <td>1971-08-07</td>\n      <td>United States</td>\n      <td>Saturn V</td>\n      <td>Heavy</td>\n      <td>12</td>\n    </tr>\n  </tbody>\n</table>\n</div>"
     },
     "execution_count": 9,
     "metadata": {},
     "output_type": "execute_result"
    }
   ],
   "source": [
    "df[df[\"country\"] == \"United States\"]"
   ],
   "metadata": {
    "collapsed": false,
    "ExecuteTime": {
     "end_time": "2023-09-26T22:02:13.124931Z",
     "start_time": "2023-09-26T22:02:13.093785200Z"
    }
   },
   "id": "b85df6b5fbc7527d"
  }
 ],
 "metadata": {
  "kernelspec": {
   "display_name": "Python 3",
   "language": "python",
   "name": "python3"
  },
  "language_info": {
   "codemirror_mode": {
    "name": "ipython",
    "version": 2
   },
   "file_extension": ".py",
   "mimetype": "text/x-python",
   "name": "python",
   "nbconvert_exporter": "python",
   "pygments_lexer": "ipython2",
   "version": "2.7.6"
  }
 },
 "nbformat": 4,
 "nbformat_minor": 5
}
