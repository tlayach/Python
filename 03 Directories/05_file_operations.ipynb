{
 "cells": [
  {
   "cell_type": "markdown",
   "metadata": {},
   "source": [
    "Check hash"
   ]
  },
  {
   "cell_type": "code",
   "execution_count": null,
   "metadata": {
    "tags": []
   },
   "outputs": [],
   "source": [
    "import hashlib\n",
    "\n",
    "# BUF_SIZE is totally arbitrary, change for your app!\n",
    "BUF_SIZE = 65536  # let's read stuff in 64kb chunks!\n",
    "\n",
    "md5 = hashlib.md5()\n",
    "sha1 = hashlib.sha1()\n",
    "\n",
    "FILE = r\"alice30.txt\"\n",
    "# with: context manager\n",
    "with open(file=FILE, mode=\"rb\") as f:\n",
    "    while True:\n",
    "        data = f.read(BUF_SIZE)\n",
    "        if not data:\n",
    "            break\n",
    "        md5.update(data)\n",
    "        sha1.update(data)\n",
    "\n",
    "print(\"MD5: {0}\".format(md5.hexdigest()))\n",
    "print(\"SHA1: {0}\".format(sha1.hexdigest()))"
   ]
  },
  {
   "cell_type": "markdown",
   "metadata": {},
   "source": [
    "Delete a file\n",
    "\n",
    "If file doesn't exist no error is returned."
   ]
  },
  {
   "cell_type": "code",
   "execution_count": null,
   "metadata": {},
   "outputs": [],
   "source": [
    "import os\n",
    "from contextlib import suppress\n",
    "\n",
    "with suppress(OSError):\n",
    "    os.remove(\"some_file.txt\")"
   ]
  },
  {
   "cell_type": "markdown",
   "metadata": {},
   "source": [
    "Delete all files"
   ]
  },
  {
   "cell_type": "code",
   "execution_count": null,
   "metadata": {},
   "outputs": [],
   "source": [
    "PATH = r\"directory\"\n",
    "\n",
    "for file in os.listdir(PATH):\n",
    "    if os.path.isfile(os.path.join(PATH, file)):\n",
    "        os.remove(os.path.join(PATH, file))"
   ]
  },
  {
   "cell_type": "markdown",
   "metadata": {},
   "source": [
    "List files"
   ]
  },
  {
   "cell_type": "code",
   "execution_count": null,
   "metadata": {
    "tags": []
   },
   "outputs": [],
   "source": [
    "import os\n",
    "\n",
    "# (f for f in os.listdir(top_dir) if os.path.isfile(os.path.join(top_dir, f)))\n",
    "PATH = r\".\"\n",
    "for file in os.listdir(PATH):\n",
    "    if os.path.isfile(os.path.join(PATH, file)):\n",
    "        print(f\"File: {file}\")"
   ]
  },
  {
   "cell_type": "markdown",
   "metadata": {},
   "source": [
    "List changed files"
   ]
  },
  {
   "cell_type": "code",
   "execution_count": null,
   "metadata": {
    "tags": []
   },
   "outputs": [],
   "source": [
    "import os\n",
    "import time\n",
    "\n",
    "PATH = r\".\"\n",
    "now = int(time.time())\n",
    "for file in os.listdir(PATH):\n",
    "    if os.path.isfile(os.path.join(PATH, file)):\n",
    "        if (now - int(os.path.getmtime(os.path.join(PATH, file)))) / (60 * 60) < 8:\n",
    "            print(f\"File: {file}\")"
   ]
  },
  {
   "cell_type": "markdown",
   "metadata": {},
   "source": [
    "List files with more than "
   ]
  },
  {
   "cell_type": "code",
   "execution_count": null,
   "metadata": {},
   "outputs": [],
   "source": [
    "import os\n",
    "\n",
    "PATH = r\".\"\n",
    "for file in os.listdir(PATH):\n",
    "    if os.path.isfile(os.path.join(PATH, file)):\n",
    "        if os.path.getsize(os.path.join(PATH, file)) > pow(10, 8):\n",
    "            print(f\"File: {file}\")"
   ]
  }
 ],
 "metadata": {
  "kernelspec": {
   "display_name": "Python 3.10.7 64-bit",
   "language": "python",
   "name": "python3"
  },
  "language_info": {
   "codemirror_mode": {
    "name": "ipython",
    "version": 3
   },
   "file_extension": ".py",
   "mimetype": "text/x-python",
   "name": "python",
   "nbconvert_exporter": "python",
   "pygments_lexer": "ipython3",
   "version": "3.10.7"
  },
  "orig_nbformat": 2,
  "vscode": {
   "interpreter": {
    "hash": "9b4d75ac280b6c7c3aa43866cb82dc88915409b55fec83a093dd0284cb58708e"
   }
  }
 },
 "nbformat": 4,
 "nbformat_minor": 2
}
