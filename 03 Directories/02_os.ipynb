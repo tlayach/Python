{
 "cells": [
  {
   "cell_type": "markdown",
   "source": [
    "# os"
   ],
   "metadata": {
    "collapsed": false
   }
  },
  {
   "cell_type": "code",
   "execution_count": null,
   "metadata": {},
   "outputs": [],
   "source": [
    "import os"
   ]
  },
  {
   "cell_type": "code",
   "execution_count": null,
   "outputs": [],
   "source": [
    "for filename in os.listdir(path=\".\"):\n",
    "    name, extension = os.path.splitext(p=filename)\n",
    "    print(name, extension)"
   ],
   "metadata": {
    "collapsed": false
   }
  },
  {
   "cell_type": "code",
   "execution_count": null,
   "outputs": [],
   "source": [
    "path = \"./\"\n",
    "[os.path.join(path, file) for file in os.listdir(path=path)]"
   ],
   "metadata": {
    "collapsed": false
   }
  },
  {
   "cell_type": "code",
   "execution_count": null,
   "outputs": [],
   "source": [
    "os.path.dirname(p=\"./\")"
   ],
   "metadata": {
    "collapsed": false
   }
  },
  {
   "cell_type": "code",
   "execution_count": null,
   "metadata": {},
   "outputs": [],
   "source": [
    "def display_cwd() -> None:\n",
    "    cwd = os.getcwd()\n",
    "    print(f\"Current working directory is {cwd}\")"
   ]
  },
  {
   "cell_type": "code",
   "execution_count": null,
   "metadata": {},
   "outputs": [],
   "source": [
    "def up_one_directory_level() -> None:\n",
    "    os.chdir(path=\"../\")"
   ]
  },
  {
   "cell_type": "code",
   "execution_count": null,
   "metadata": {},
   "outputs": [],
   "source": [
    "from datetime import datetime\n",
    "\n",
    "\n",
    "def format_datetime(timestamp: float) -> str:\n",
    "    utc_timestamp = datetime.utcfromtimestamp(timestamp)\n",
    "    formatted_date = utc_timestamp.strftime(\"%d %b %Y %H %M %S\")\n",
    "    return formatted_date"
   ]
  },
  {
   "cell_type": "code",
   "execution_count": null,
   "metadata": {},
   "outputs": [],
   "source": [
    "def display_entries_in_directory(directory: str) -> None:\n",
    "    with os.scandir(directory) as entries:\n",
    "        for entry in entries:\n",
    "            print(f\"Name: {entry.name}\")\n",
    "            info = entry.stat()\n",
    "            # print(f\"Creation Time: {format_datetime(timestamp=info.st_birthtime)}\")  # mac\n",
    "            print(f\"Creation Time: {format_datetime(timestamp=info.st_ctime)}\")  # windows\n",
    "            print(f\"Last Access Time: {format_datetime(info.st_atime)}\")\n",
    "            print(f\"Size: {info.st_size}\")"
   ]
  },
  {
   "cell_type": "code",
   "execution_count": null,
   "metadata": {},
   "outputs": [],
   "source": [
    "def display_directories(directory: str) -> None:\n",
    "    with os.scandir(path=directory) as entries:\n",
    "        for entry in entries:\n",
    "            if entry.is_dir():\n",
    "                print(f\"Directory name {entry.name}\")"
   ]
  },
  {
   "cell_type": "code",
   "execution_count": null,
   "metadata": {},
   "outputs": [],
   "source": [
    "def display_files(directory: str) -> None:\n",
    "    with os.scandir(path=directory) as entries:\n",
    "        for entry in entries:\n",
    "            if entry.is_file():\n",
    "                print(f\"File name {entry.name}\")"
   ]
  },
  {
   "cell_type": "code",
   "execution_count": null,
   "metadata": {},
   "outputs": [],
   "source": [
    "if __name__ == \"__main__\":\n",
    "    display_cwd()\n",
    "    up_one_directory_level()\n",
    "    display_cwd()\n",
    "    display_entries_in_directory(directory=\".\")\n",
    "    display_directories(directory=\".\")\n",
    "    display_files(directory=\".\")"
   ]
  }
 ],
 "metadata": {
  "kernelspec": {
   "display_name": "Python 3.10.7 64-bit",
   "language": "python",
   "name": "python3"
  },
  "language_info": {
   "codemirror_mode": {
    "name": "ipython",
    "version": 3
   },
   "file_extension": ".py",
   "mimetype": "text/x-python",
   "name": "python",
   "nbconvert_exporter": "python",
   "pygments_lexer": "ipython3",
   "version": "3.11.0"
  },
  "orig_nbformat": 4,
  "vscode": {
   "interpreter": {
    "hash": "9b4d75ac280b6c7c3aa43866cb82dc88915409b55fec83a093dd0284cb58708e"
   }
  }
 },
 "nbformat": 4,
 "nbformat_minor": 2
}
