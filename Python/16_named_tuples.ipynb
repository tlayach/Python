{
 "cells": [
  {
   "attachments": {},
   "cell_type": "markdown",
   "metadata": {},
   "source": [
    "# Named tuples"
   ]
  },
  {
   "attachments": {},
   "cell_type": "markdown",
   "metadata": {},
   "source": [
    "Named tuples are a type of data structure that allow you to define a custom, named collection of fields. They are similar to tuples in that they are immutable and can be accessed using indexing or unpacking. However, named tuples allow you to access fields using dot notation, which can make your code more readable and self-documenting.\n",
    "\n",
    "With named tuples, you can define a new class of objects with a set of named fields, much like defining a new data type. Each field can be accessed by its name, which makes it easier to remember which value you are accessing. You can also use named tuples to define data structures with a fixed number of fields that have specific meanings, such as a point in two-dimensional space or a date and time.\n",
    "\n",
    "Named tuples can be a convenient way to organize data in your code, especially when the data has a specific structure or meaning. They can help you avoid using \"magic numbers\" or cryptic indices to access elements of a tuple, and they can make your code more self-explanatory and maintainable."
   ]
  },
  {
   "cell_type": "code",
   "execution_count": 1,
   "metadata": {},
   "outputs": [],
   "source": [
    "from typing import NamedTuple\n",
    "from dataclasses import dataclass"
   ]
  },
  {
   "cell_type": "code",
   "execution_count": 2,
   "metadata": {},
   "outputs": [],
   "source": [
    "@dataclass\n",
    "class ScreenSize2:\n",
    "    width: int\n",
    "    height: int"
   ]
  },
  {
   "cell_type": "code",
   "execution_count": 3,
   "metadata": {},
   "outputs": [],
   "source": [
    "screen_size = NamedTuple(\"ScreenSize\", [(\"width\", int), (\"height\", int)])\n",
    "\n",
    "# same using dataclasses\n",
    "# https://www.youtube.com/watch?v=T-TwcmT6Rcw&t=1390s\n",
    "\n",
    "# CODE INCOMPLETE!"
   ]
  }
 ],
 "metadata": {
  "kernelspec": {
   "display_name": "Python 3",
   "language": "python",
   "name": "python3"
  },
  "language_info": {
   "codemirror_mode": {
    "name": "ipython",
    "version": 3
   },
   "file_extension": ".py",
   "mimetype": "text/x-python",
   "name": "python",
   "nbconvert_exporter": "python",
   "pygments_lexer": "ipython3",
   "version": "3.11.2"
  },
  "orig_nbformat": 4
 },
 "nbformat": 4,
 "nbformat_minor": 2
}
