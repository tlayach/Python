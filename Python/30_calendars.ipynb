{
 "cells": [
  {
   "cell_type": "markdown",
   "source": [
    "# Calendar"
   ],
   "metadata": {
    "collapsed": false
   }
  },
  {
   "cell_type": "code",
   "execution_count": 29,
   "metadata": {
    "collapsed": true
   },
   "outputs": [],
   "source": [
    "import calendar"
   ]
  },
  {
   "cell_type": "code",
   "execution_count": 30,
   "outputs": [
    {
     "output_type": "execute_result",
     "data": {
      "text/plain": [
       "'Mon Tue Wed Thu Fri Sat Sun'"
      ]
     },
     "metadata": {},
     "execution_count": 30
    }
   ],
   "source": [
    "calendar.weekheader(width=3)"
   ],
   "metadata": {
    "collapsed": false,
    "pycharm": {
     "name": "#%%\n"
    }
   }
  },
  {
   "cell_type": "code",
   "execution_count": 31,
   "metadata": {},
   "outputs": [
    {
     "output_type": "execute_result",
     "data": {
      "text/plain": [
       "0"
      ]
     },
     "metadata": {},
     "execution_count": 31
    }
   ],
   "source": [
    "calendar.firstweekday()  # 0: monday"
   ]
  },
  {
   "cell_type": "code",
   "execution_count": 32,
   "metadata": {},
   "outputs": [
    {
     "output_type": "execute_result",
     "data": {
      "text/plain": [
       "'         March 2020\\nMon Tue Wed Thu Fri Sat Sun\\n                          1\\n  2   3   4   5   6   7   8\\n  9  10  11  12  13  14  15\\n 16  17  18  19  20  21  22\\n 23  24  25  26  27  28  29\\n 30  31\\n'"
      ]
     },
     "metadata": {},
     "execution_count": 32
    }
   ],
   "source": [
    "calendar.month(theyear=2020, themonth=3, w=3)  # output calendar from march with width 3"
   ]
  },
  {
   "cell_type": "code",
   "execution_count": 33,
   "metadata": {},
   "outputs": [
    {
     "output_type": "execute_result",
     "data": {
      "text/plain": [
       "[[0, 0, 0, 0, 0, 0, 1],\n",
       " [2, 3, 4, 5, 6, 7, 8],\n",
       " [9, 10, 11, 12, 13, 14, 15],\n",
       " [16, 17, 18, 19, 20, 21, 22],\n",
       " [23, 24, 25, 26, 27, 28, 29],\n",
       " [30, 31, 0, 0, 0, 0, 0]]"
      ]
     },
     "metadata": {},
     "execution_count": 33
    }
   ],
   "source": [
    "calendar.monthcalendar(year=2020, month=3)"
   ]
  },
  {
   "cell_type": "code",
   "execution_count": 34,
   "metadata": {},
   "outputs": [
    {
     "output_type": "execute_result",
     "data": {
      "text/plain": [
       "'                                  2020\\n\\n      January                   February                   March\\nMo Tu We Th Fr Sa Su      Mo Tu We Th Fr Sa Su      Mo Tu We Th Fr Sa Su\\n       1  2  3  4  5                      1  2                         1\\n 6  7  8  9 10 11 12       3  4  5  6  7  8  9       2  3  4  5  6  7  8\\n13 14 15 16 17 18 19      10 11 12 13 14 15 16       9 10 11 12 13 14 15\\n20 21 22 23 24 25 26      17 18 19 20 21 22 23      16 17 18 19 20 21 22\\n27 28 29 30 31            24 25 26 27 28 29         23 24 25 26 27 28 29\\n                                                    30 31\\n\\n       April                      May                       June\\nMo Tu We Th Fr Sa Su      Mo Tu We Th Fr Sa Su      Mo Tu We Th Fr Sa Su\\n       1  2  3  4  5                   1  2  3       1  2  3  4  5  6  7\\n 6  7  8  9 10 11 12       4  5  6  7  8  9 10       8  9 10 11 12 13 14\\n13 14 15 16 17 18 19      11 12 13 14 15 16 17      15 16 17 18 19 20 21\\n20 21 22 23 24 25 26      18 19 20 21 22 23 24      22 23 24 25 26 27 28\\n27 28 29 30               25 26 27 28 29 30 31      29 30\\n\\n        July                     August                  September\\nMo Tu We Th Fr Sa Su      Mo Tu We Th Fr Sa Su      Mo Tu We Th Fr Sa Su\\n       1  2  3  4  5                      1  2          1  2  3  4  5  6\\n 6  7  8  9 10 11 12       3  4  5  6  7  8  9       7  8  9 10 11 12 13\\n13 14 15 16 17 18 19      10 11 12 13 14 15 16      14 15 16 17 18 19 20\\n20 21 22 23 24 25 26      17 18 19 20 21 22 23      21 22 23 24 25 26 27\\n27 28 29 30 31            24 25 26 27 28 29 30      28 29 30\\n                          31\\n\\n      October                   November                  December\\nMo Tu We Th Fr Sa Su      Mo Tu We Th Fr Sa Su      Mo Tu We Th Fr Sa Su\\n          1  2  3  4                         1          1  2  3  4  5  6\\n 5  6  7  8  9 10 11       2  3  4  5  6  7  8       7  8  9 10 11 12 13\\n12 13 14 15 16 17 18       9 10 11 12 13 14 15      14 15 16 17 18 19 20\\n19 20 21 22 23 24 25      16 17 18 19 20 21 22      21 22 23 24 25 26 27\\n26 27 28 29 30 31         23 24 25 26 27 28 29      28 29 30 31\\n                          30\\n'"
      ]
     },
     "metadata": {},
     "execution_count": 34
    }
   ],
   "source": [
    "calendar.calendar(theyear=2020)"
   ]
  },
  {
   "cell_type": "code",
   "execution_count": 35,
   "metadata": {},
   "outputs": [
    {
     "output_type": "execute_result",
     "data": {
      "text/plain": [
       "6"
      ]
     },
     "metadata": {},
     "execution_count": 35
    }
   ],
   "source": [
    "calendar.weekday(year=2020, month=3, day=1)"
   ]
  },
  {
   "cell_type": "code",
   "source": [
    "day_name = calendar.day_name\n",
    "\n",
    "for i in range(7):\n",
    "    print(i, day_name[i])"
   ],
   "metadata": {
    "collapsed": false,
    "pycharm": {
     "name": "#%%\n"
    }
   },
   "execution_count": 36,
   "outputs": [
    {
     "output_type": "stream",
     "name": "stdout",
     "text": [
      "0 Monday\n1 Tuesday\n2 Wednesday\n3 Thursday\n4 Friday\n5 Saturday\n6 Sunday\n"
     ]
    }
   ]
  },
  {
   "cell_type": "code",
   "execution_count": 42,
   "metadata": {},
   "outputs": [
    {
     "output_type": "execute_result",
     "data": {
      "text/plain": [
       "True"
      ]
     },
     "metadata": {},
     "execution_count": 42
    }
   ],
   "source": [
    "calendar.isleap(2012)  # every four years"
   ]
  },
  {
   "cell_type": "code",
   "execution_count": 43,
   "metadata": {},
   "outputs": [
    {
     "output_type": "execute_result",
     "data": {
      "text/plain": [
       "2"
      ]
     },
     "metadata": {},
     "execution_count": 43
    }
   ],
   "source": [
    "calendar.leapdays(y1=2000, y2=2005)"
   ]
  }
 ],
 "metadata": {
  "kernelspec": {
   "name": "Python 3.9.0 64-bit",
   "display_name": "Python 3.9.0 64-bit",
   "metadata": {
    "interpreter": {
     "hash": "d458f86daf1a727447ca2c55795b0756e1cf758a7fd3f4665d751bbf5b84dbcb"
    }
   }
  },
  "language_info": {
   "codemirror_mode": {
    "name": "ipython",
    "version": 2
   },
   "file_extension": ".py",
   "mimetype": "text/x-python",
   "name": "python",
   "nbconvert_exporter": "python",
   "pygments_lexer": "ipython2",
   "version": "3.9.0-final"
  }
 },
 "nbformat": 4,
 "nbformat_minor": 0
}