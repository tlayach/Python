{
 "cells": [
  {
   "attachments": {},
   "cell_type": "markdown",
   "metadata": {},
   "source": [
    "# Regular Expressions"
   ]
  },
  {
   "attachments": {},
   "cell_type": "markdown",
   "metadata": {},
   "source": [
    "In Python, regular expressions are a powerful tool for working with text data. A regular expression is a sequence of characters that defines a search pattern, which can be used to match or manipulate text strings.\n",
    "\n",
    "Regular expressions are supported in Python through the built-in re module. This module provides a set of functions and methods that allow you to search, match, and manipulate text data using regular expressions.\n",
    "\n",
    "Some of the most commonly used functions and methods in the re module include:\n",
    "* search(): Searches for a pattern in a string and returns the first occurrence.\n",
    "* match(): Searches for a pattern at the beginning of a string and returns the match if found.\n",
    "* findall(): Finds all occurrences of a pattern in a string and returns them as a list.\n",
    "* sub(): Replaces all occurrences of a pattern in a string with a replacement string.\n",
    "\n",
    "Regular expressions use special characters and syntax to define search patterns. For example, the . character matches any single character, the * character matches zero or more occurrences of the previous character or group, and the [] characters define a set of characters to match."
   ]
  },
  {
   "cell_type": "code",
   "execution_count": 1,
   "metadata": {},
   "outputs": [],
   "source": [
    "import re"
   ]
  },
  {
   "attachments": {},
   "cell_type": "markdown",
   "metadata": {},
   "source": [
    "Extracts the first two words of the text"
   ]
  },
  {
   "cell_type": "code",
   "execution_count": 2,
   "metadata": {},
   "outputs": [
    {
     "data": {
      "text/plain": [
       "('Isaac', 'Newton')"
      ]
     },
     "execution_count": 2,
     "metadata": {},
     "output_type": "execute_result"
    }
   ],
   "source": [
    "re.match(r\"(\\w+) (\\w+)\", \"Isaac Newton Physicist\").groups()"
   ]
  },
  {
   "attachments": {},
   "cell_type": "markdown",
   "metadata": {},
   "source": [
    "Extracts the starting number as long as it has 10 digits"
   ]
  },
  {
   "cell_type": "code",
   "execution_count": 3,
   "metadata": {},
   "outputs": [
    {
     "data": {
      "text/plain": [
       "('0123456780',)"
      ]
     },
     "execution_count": 3,
     "metadata": {},
     "output_type": "execute_result"
    }
   ],
   "source": [
    "re.match(r\"([0-9]{10})\", \"0123456780 Supplier 123 X 1234567890\").groups()"
   ]
  },
  {
   "attachments": {},
   "cell_type": "markdown",
   "metadata": {},
   "source": [
    "Separates the number into units and decimals"
   ]
  },
  {
   "cell_type": "code",
   "execution_count": 4,
   "metadata": {},
   "outputs": [
    {
     "data": {
      "text/plain": [
       "('24', '1632')"
      ]
     },
     "execution_count": 4,
     "metadata": {},
     "output_type": "execute_result"
    }
   ],
   "source": [
    "re.match(r\"(\\d+)\\.(\\d+)\", \"24.1632\").groups()"
   ]
  },
  {
   "attachments": {},
   "cell_type": "markdown",
   "metadata": {},
   "source": [
    "Separates text into words using space character as a reference"
   ]
  },
  {
   "cell_type": "code",
   "execution_count": 5,
   "metadata": {},
   "outputs": [
    {
     "data": {
      "text/plain": [
       "['Isaac', 'Newton', 'Physicist']"
      ]
     },
     "execution_count": 5,
     "metadata": {},
     "output_type": "execute_result"
    }
   ],
   "source": [
    "re.split(pattern=\"\\s\", string=\"Isaac Newton Physicist\", maxsplit=0)"
   ]
  },
  {
   "attachments": {},
   "cell_type": "markdown",
   "metadata": {},
   "source": [
    "Strip equivalent"
   ]
  },
  {
   "cell_type": "code",
   "execution_count": 6,
   "metadata": {},
   "outputs": [
    {
     "data": {
      "text/plain": [
       "'hello '"
      ]
     },
     "execution_count": 6,
     "metadata": {},
     "output_type": "execute_result"
    }
   ],
   "source": [
    "w = \"hello world\"\n",
    "re.search(pattern=\"^[world]*(.*?)[world]*$\", string=w).group(1)"
   ]
  },
  {
   "attachments": {},
   "cell_type": "markdown",
   "metadata": {},
   "source": [
    "Removes symbols from the file name except the dot"
   ]
  },
  {
   "cell_type": "code",
   "execution_count": 7,
   "metadata": {},
   "outputs": [
    {
     "data": {
      "text/plain": [
       "'016_test_file_peter_.name_123//111_99.pdf'"
      ]
     },
     "execution_count": 7,
     "metadata": {},
     "output_type": "execute_result"
    }
   ],
   "source": [
    "w = r\"016_test,file-peter_.name_123//111\\\\99.pdf\"\n",
    "re.sub(pattern=r\"[^0-9a-zA-Z:.-:]+\", repl=\"_\", string=w)"
   ]
  },
  {
   "attachments": {},
   "cell_type": "markdown",
   "metadata": {},
   "source": [
    "016_test_file_peter_.name_123_111_99.pdf"
   ]
  },
  {
   "cell_type": "code",
   "execution_count": 8,
   "metadata": {},
   "outputs": [
    {
     "data": {
      "text/plain": [
       "'016_test_file_peter_.name_123_111_99.pdf'"
      ]
     },
     "execution_count": 8,
     "metadata": {},
     "output_type": "execute_result"
    }
   ],
   "source": [
    "w = r\"016_test,file:-peter_.name_123//111\\\\99.pdf\"\n",
    "re.sub(pattern=r\"[^a-zA-Z0-9.]+\", repl=\"_\", string=w)"
   ]
  },
  {
   "attachments": {},
   "cell_type": "markdown",
   "metadata": {},
   "source": [
    "## Isaac Newton"
   ]
  },
  {
   "cell_type": "code",
   "execution_count": 9,
   "metadata": {},
   "outputs": [],
   "source": [
    "text = \"\"\"Isaac Newton was an English physicist, mathematician, and astronomer who lived from 1643 to 1727. He is considered one of the most important figures in the history of science, and his contributions to the fields of physics and mathematics have had a profound impact on the modern world.\n",
    "\n",
    "Newton is perhaps best known for his work on the laws of motion and universal gravitation. In 1687, he published his seminal work, \"Mathematical Principles of Natural Philosophy,\" which laid out his three laws of motion and his law of universal gravitation. These laws formed the basis of classical mechanics, and they allowed scientists to understand the behavior of objects in motion and the force that governs the movements of the planets and other celestial bodies.\n",
    "\n",
    "In addition to his work in physics, Newton also made significant contributions to the field of mathematics. He is credited with developing calculus, a branch of mathematics that deals with rates of change and slopes of curves. Newton's work in calculus was instrumental in the development of modern mathematics, and it has had important applications in fields such as engineering, economics, and physics.\n",
    "\n",
    "Newton was also an accomplished astronomer, and he made several important discoveries in this field as well. He built the first reflecting telescope, which allowed for more accurate observations of the stars and planets. He also discovered that white light is actually made up of a spectrum of colors, a phenomenon now known as Newton's law of color.\n",
    "\n",
    "Newton's work had a profound impact on the scientific community of his time, and it continues to influence scientific research and discovery today. He was widely recognized as one of the greatest minds in history, and his legacy has had a lasting impact on the fields of physics, mathematics, and astronomy.\"\"\""
   ]
  },
  {
   "attachments": {},
   "cell_type": "markdown",
   "metadata": {},
   "source": [
    "Use regex to split the text into words."
   ]
  },
  {
   "cell_type": "code",
   "execution_count": 10,
   "metadata": {},
   "outputs": [
    {
     "data": {
      "text/plain": [
       "['Isaac', 'Newton', 'was', 'an', 'English', 'physicist', 'mathematician']"
      ]
     },
     "execution_count": 10,
     "metadata": {},
     "output_type": "execute_result"
    }
   ],
   "source": [
    "words = re.findall(pattern=r\"\\b\\w+\\b\", string=text)\n",
    "words[0:7] # first 7 words"
   ]
  },
  {
   "cell_type": "code",
   "execution_count": 11,
   "metadata": {},
   "outputs": [
    {
     "data": {
      "text/plain": [
       "299"
      ]
     },
     "execution_count": 11,
     "metadata": {},
     "output_type": "execute_result"
    }
   ],
   "source": [
    "len(words)"
   ]
  },
  {
   "attachments": {},
   "cell_type": "markdown",
   "metadata": {},
   "source": [
    "Frequency of each word."
   ]
  },
  {
   "cell_type": "code",
   "execution_count": 12,
   "metadata": {},
   "outputs": [
    {
     "name": "stdout",
     "output_type": "stream",
     "text": [
      "'Isaac': 1\n",
      "'Newton': 7\n",
      "'was': 4\n",
      "'an': 2\n",
      "'English': 1\n",
      "'physicist': 1\n",
      "'mathematician': 1\n",
      "'and': 17\n",
      "'astronomer': 2\n",
      "'who': 1\n",
      "'lived': 1\n",
      "'from': 1\n",
      "'1643': 1\n",
      "'to': 6\n",
      "'1727': 1\n",
      "'He': 5\n",
      "'is': 4\n",
      "'considered': 1\n",
      "'one': 2\n",
      "'of': 22\n",
      "'the': 17\n",
      "'most': 1\n",
      "'important': 3\n",
      "'figures': 1\n",
      "'in': 8\n",
      "'history': 2\n",
      "'science': 1\n",
      "'his': 8\n",
      "'contributions': 2\n",
      "'fields': 3\n",
      "'physics': 4\n",
      "'mathematics': 5\n",
      "'have': 1\n",
      "'had': 4\n",
      "'a': 6\n",
      "'profound': 2\n",
      "'impact': 3\n",
      "'on': 4\n",
      "'modern': 2\n",
      "'world': 1\n",
      "'perhaps': 1\n",
      "'best': 1\n",
      "'known': 2\n",
      "'for': 2\n",
      "'work': 5\n",
      "'laws': 3\n",
      "'motion': 3\n",
      "'universal': 2\n",
      "'gravitation': 2\n",
      "'In': 2\n",
      "'1687': 1\n",
      "'he': 2\n",
      "'published': 1\n",
      "'seminal': 1\n",
      "'Mathematical': 1\n",
      "'Principles': 1\n",
      "'Natural': 1\n",
      "'Philosophy': 1\n",
      "'which': 2\n",
      "'laid': 1\n",
      "'out': 1\n",
      "'three': 1\n",
      "'law': 2\n",
      "'These': 1\n",
      "'formed': 1\n",
      "'basis': 1\n",
      "'classical': 1\n",
      "'mechanics': 1\n",
      "'they': 1\n",
      "'allowed': 2\n",
      "'scientists': 1\n",
      "'understand': 1\n",
      "'behavior': 1\n",
      "'objects': 1\n",
      "'force': 1\n",
      "'that': 3\n",
      "'governs': 1\n",
      "'movements': 1\n",
      "'planets': 2\n",
      "'other': 1\n",
      "'celestial': 1\n",
      "'bodies': 1\n",
      "'addition': 1\n",
      "'also': 3\n",
      "'made': 3\n",
      "'significant': 1\n",
      "'field': 2\n",
      "'credited': 1\n",
      "'with': 2\n",
      "'developing': 1\n",
      "'calculus': 2\n",
      "'branch': 1\n",
      "'deals': 1\n",
      "'rates': 1\n",
      "'change': 1\n",
      "'slopes': 1\n",
      "'curves': 1\n",
      "'s': 3\n",
      "'instrumental': 1\n",
      "'development': 1\n",
      "'it': 2\n",
      "'has': 2\n",
      "'applications': 1\n",
      "'such': 1\n",
      "'as': 4\n",
      "'engineering': 1\n",
      "'economics': 1\n",
      "'accomplished': 1\n",
      "'several': 1\n",
      "'discoveries': 1\n",
      "'this': 1\n",
      "'well': 1\n",
      "'built': 1\n",
      "'first': 1\n",
      "'reflecting': 1\n",
      "'telescope': 1\n",
      "'more': 1\n",
      "'accurate': 1\n",
      "'observations': 1\n",
      "'stars': 1\n",
      "'discovered': 1\n",
      "'white': 1\n",
      "'light': 1\n",
      "'actually': 1\n",
      "'up': 1\n",
      "'spectrum': 1\n",
      "'colors': 1\n",
      "'phenomenon': 1\n",
      "'now': 1\n",
      "'color': 1\n",
      "'scientific': 2\n",
      "'community': 1\n",
      "'time': 1\n",
      "'continues': 1\n",
      "'influence': 1\n",
      "'research': 1\n",
      "'discovery': 1\n",
      "'today': 1\n",
      "'widely': 1\n",
      "'recognized': 1\n",
      "'greatest': 1\n",
      "'minds': 1\n",
      "'legacy': 1\n",
      "'lasting': 1\n",
      "'astronomy': 1\n"
     ]
    }
   ],
   "source": [
    "freq_dict = {}\n",
    "\n",
    "for word in words:\n",
    "    if word in freq_dict:\n",
    "        freq_dict[word] += 1\n",
    "    else:\n",
    "        freq_dict[word] = 1\n",
    "\n",
    "for word, freq in freq_dict.items():\n",
    "    print(f\"'{word}': {freq}\")"
   ]
  },
  {
   "attachments": {},
   "cell_type": "markdown",
   "metadata": {},
   "source": [
    "Use regex to split the text into sentences."
   ]
  },
  {
   "cell_type": "code",
   "execution_count": 13,
   "metadata": {},
   "outputs": [
    {
     "data": {
      "text/plain": [
       "['Isaac Newton was an English physicist, mathematician, and astronomer who lived from 1643 to 1727',\n",
       " ' He is considered one of the most important figures in the history of science, and his contributions to the fields of physics and mathematics have had a profound impact on the modern world',\n",
       " '\\n\\nNewton is perhaps best known for his work on the laws of motion and universal gravitation',\n",
       " ' In 1687, he published his seminal work, \"Mathematical Principles of Natural Philosophy,\" which laid out his three laws of motion and his law of universal gravitation',\n",
       " ' These laws formed the basis of classical mechanics, and they allowed scientists to understand the behavior of objects in motion and the force that governs the movements of the planets and other celestial bodies',\n",
       " '\\n\\nIn addition to his work in physics, Newton also made significant contributions to the field of mathematics',\n",
       " ' He is credited with developing calculus, a branch of mathematics that deals with rates of change and slopes of curves',\n",
       " \" Newton's work in calculus was instrumental in the development of modern mathematics, and it has had important applications in fields such as engineering, economics, and physics\",\n",
       " '\\n\\nNewton was also an accomplished astronomer, and he made several important discoveries in this field as well',\n",
       " ' He built the first reflecting telescope, which allowed for more accurate observations of the stars and planets',\n",
       " \" He also discovered that white light is actually made up of a spectrum of colors, a phenomenon now known as Newton's law of color\",\n",
       " \"\\n\\nNewton's work had a profound impact on the scientific community of his time, and it continues to influence scientific research and discovery today\",\n",
       " ' He was widely recognized as one of the greatest minds in history, and his legacy has had a lasting impact on the fields of physics, mathematics, and astronomy',\n",
       " '']"
      ]
     },
     "execution_count": 13,
     "metadata": {},
     "output_type": "execute_result"
    }
   ],
   "source": [
    "sentences = re.split(pattern=r\"[.!?]\", string=text)\n",
    "sentences"
   ]
  },
  {
   "cell_type": "code",
   "execution_count": 14,
   "metadata": {},
   "outputs": [
    {
     "data": {
      "text/plain": [
       "14"
      ]
     },
     "execution_count": 14,
     "metadata": {},
     "output_type": "execute_result"
    }
   ],
   "source": [
    "len(sentences)"
   ]
  },
  {
   "attachments": {},
   "cell_type": "markdown",
   "metadata": {},
   "source": [
    "Frequency of each phrase."
   ]
  },
  {
   "cell_type": "code",
   "execution_count": 15,
   "metadata": {},
   "outputs": [
    {
     "name": "stdout",
     "output_type": "stream",
     "text": [
      "'Isaac Newton was an English physicist, mathematician, and astronomer who lived from 1643 to 1727': 1\n",
      "'He is considered one of the most important figures in the history of science, and his contributions to the fields of physics and mathematics have had a profound impact on the modern world': 1\n",
      "'Newton is perhaps best known for his work on the laws of motion and universal gravitation': 1\n",
      "'In 1687, he published his seminal work, \"Mathematical Principles of Natural Philosophy,\" which laid out his three laws of motion and his law of universal gravitation': 1\n",
      "'These laws formed the basis of classical mechanics, and they allowed scientists to understand the behavior of objects in motion and the force that governs the movements of the planets and other celestial bodies': 1\n",
      "'In addition to his work in physics, Newton also made significant contributions to the field of mathematics': 1\n",
      "'He is credited with developing calculus, a branch of mathematics that deals with rates of change and slopes of curves': 1\n",
      "'Newton's work in calculus was instrumental in the development of modern mathematics, and it has had important applications in fields such as engineering, economics, and physics': 1\n",
      "'Newton was also an accomplished astronomer, and he made several important discoveries in this field as well': 1\n",
      "'He built the first reflecting telescope, which allowed for more accurate observations of the stars and planets': 1\n",
      "'He also discovered that white light is actually made up of a spectrum of colors, a phenomenon now known as Newton's law of color': 1\n",
      "'Newton's work had a profound impact on the scientific community of his time, and it continues to influence scientific research and discovery today': 1\n",
      "'He was widely recognized as one of the greatest minds in history, and his legacy has had a lasting impact on the fields of physics, mathematics, and astronomy': 1\n",
      "'': 1\n"
     ]
    }
   ],
   "source": [
    "freq_dict = {}\n",
    "\n",
    "for phrase in sentences:\n",
    "    if phrase in freq_dict:\n",
    "        freq_dict[phrase] += 1\n",
    "    else:\n",
    "        freq_dict[phrase] = 1\n",
    "\n",
    "for phrase, freq in freq_dict.items():\n",
    "    print(f\"'{phrase.strip()}': {freq}\")"
   ]
  },
  {
   "attachments": {},
   "cell_type": "markdown",
   "metadata": {},
   "source": [
    "Frequency of words that have the previous word the word \"is\" and it finishes with the letters \"ed\"."
   ]
  },
  {
   "cell_type": "code",
   "execution_count": 17,
   "metadata": {},
   "outputs": [
    {
     "name": "stdout",
     "output_type": "stream",
     "text": [
      "'considered': 1\n",
      "'credited': 1\n"
     ]
    }
   ],
   "source": [
    "freq_dict = {}\n",
    "\n",
    "for i in range(1, len(words)):\n",
    "    if words[i].endswith(\"ed\") and words[i-1] == \"is\":\n",
    "        word = words[i].lower()\n",
    "        if word in freq_dict:\n",
    "            freq_dict[word] += 1\n",
    "        else:\n",
    "            freq_dict[word] = 1\n",
    "\n",
    "for word, freq in freq_dict.items():\n",
    "    print(f\"'{word}': {freq}\")"
   ]
  },
  {
   "cell_type": "code",
   "execution_count": null,
   "metadata": {},
   "outputs": [],
   "source": []
  }
 ],
 "metadata": {
  "kernelspec": {
   "display_name": "Python 3",
   "language": "python",
   "name": "python3"
  },
  "language_info": {
   "codemirror_mode": {
    "name": "ipython",
    "version": 3
   },
   "file_extension": ".py",
   "mimetype": "text/x-python",
   "name": "python",
   "nbconvert_exporter": "python",
   "pygments_lexer": "ipython3",
   "version": "3.11.2"
  },
  "orig_nbformat": 4
 },
 "nbformat": 4,
 "nbformat_minor": 2
}
