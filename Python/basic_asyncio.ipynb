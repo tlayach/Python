{
 "cells": [
  {
   "cell_type": "code",
   "execution_count": null,
   "metadata": {},
   "outputs": [],
   "source": [
    "import asyncio"
   ]
  },
  {
   "cell_type": "code",
   "execution_count": null,
   "metadata": {},
   "outputs": [],
   "source": [
    "async def factorial(name: str, number: int) -> None:\n",
    "    f = 1\n",
    "    for i in range(2, number + 1):\n",
    "        print(\"Task {0}: Compute factorial({1})...\".format(name, i))\n",
    "        await asyncio.sleep(1)\n",
    "        f *= i\n",
    "    print(\"Task {0}: factorial({1}) = {2}\".format(name, number, f))\n",
    "\n",
    "loop = asyncio.get_event_loop()\n",
    "loop.run_until_complete(asyncio.gather(\n",
    "    factorial(\"A\", 2),\n",
    "    factorial(\"B\", 3),\n",
    "    factorial(\"C\", 4),\n",
    "))\n",
    "loop.close()"
   ]
  },
  {
   "cell_type": "code",
   "execution_count": null,
   "metadata": {
    "tags": []
   },
   "outputs": [],
   "source": [
    "async def worker(x):\n",
    "    print(\"Waiting {0}\".format(str(x)))\n",
    "    await asyncio.sleep(x)\n",
    "\n",
    "loop = asyncio.get_event_loop()\n",
    "loop.run_until_complete(asyncio.gather(worker(15), worker(10)))"
   ]
  }
 ],
 "metadata": {
  "language_info": {
   "codemirror_mode": {
    "name": "ipython",
    "version": 3
   },
   "file_extension": ".py",
   "mimetype": "text/x-python",
   "name": "python",
   "nbconvert_exporter": "python",
   "pygments_lexer": "ipython3",
   "version": "3.8.2-final"
  },
  "orig_nbformat": 2,
  "kernelspec": {
   "name": "python38264bit71e318b667e44b41913a890f20b5e54e",
   "language": "python",
   "display_name": "Python 3.8.2 64-bit"
  }
 },
 "nbformat": 4,
 "nbformat_minor": 2
}