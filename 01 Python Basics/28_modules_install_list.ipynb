{
 "cells": [
  {
   "attachments": {},
   "cell_type": "markdown",
   "metadata": {},
   "source": [
    "Install or upgrades a list of modules using pip."
   ]
  },
  {
   "cell_type": "code",
   "execution_count": null,
   "metadata": {},
   "outputs": [],
   "source": [
    "import subprocess\n",
    "\n",
    "# list of modules to install or upgrade\n",
    "modules = [\"cx-Oracle\", \"matplotlib\", \"mysql-connector-python\", \"numpy\", \"pandas\", \"pydantic\", \"pyodbc\",\n",
    "           \"reportlab\", \"requests\", \"scipy\", \"seaborn\", \"setuptools\", \"toml\", \"tomli\", \"XlsxWriter\"]\n",
    "\n",
    "# loop through the list and install or upgrade each module using pip\n",
    "for module in modules:\n",
    "    subprocess.call([\"pip\", \"install\", \"--upgrade\", module])"
   ]
  }
 ],
 "metadata": {
  "kernelspec": {
   "display_name": "Python 3",
   "language": "python",
   "name": "python3"
  },
  "language_info": {
   "name": "python",
   "version": "3.11.2"
  },
  "orig_nbformat": 4,
  "vscode": {
   "interpreter": {
    "hash": "9b4d75ac280b6c7c3aa43866cb82dc88915409b55fec83a093dd0284cb58708e"
   }
  }
 },
 "nbformat": 4,
 "nbformat_minor": 2
}
