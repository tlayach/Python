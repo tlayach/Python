{
 "cells": [
  {
   "source": [
    "## Classes"
   ],
   "cell_type": "markdown",
   "metadata": {}
  },
  {
   "cell_type": "code",
   "execution_count": 18,
   "metadata": {},
   "outputs": [
    {
     "output_type": "stream",
     "name": "stdout",
     "text": [
      "Test(*(1, 2, 3))\nTest(*(2, 4, 6))\n"
     ]
    }
   ],
   "source": [
    "class Test:\n",
    "    \"\"\"\n",
    "    Sample class\n",
    "    \"\"\"\n",
    "    def __init__(self, *arguments) -> None:\n",
    "        \"\"\"\n",
    "        When initializing.\n",
    "        :param coeffs: numbers\n",
    "        \"\"\"\n",
    "        self.arguments = arguments\n",
    "\n",
    "    def __enter__(self) -> None:\n",
    "        pass\n",
    "\n",
    "    def __exit__(self) -> None:\n",
    "        pass\n",
    "\n",
    "    def __del__(self) -> None:\n",
    "        \"\"\"\n",
    "        When closing (or using the function del)\n",
    "        :return: void\n",
    "        \"\"\"\n",
    "        pass\n",
    "\n",
    "    def __repr__(self) -> str:\n",
    "        \"\"\"\n",
    "        Representation of the object.\n",
    "        :return: string\n",
    "        \"\"\"\n",
    "        return f\"Test(*{self.arguments!r})\"\n",
    "\n",
    "    def __add__(self, other):\n",
    "        \"\"\"\n",
    "        Overload the \"+\" operator.\n",
    "        :param other:\n",
    "        :return: sum of elements\n",
    "        \"\"\"\n",
    "        return Test(*(x + y for x, y in zip(self.arguments, other.arguments)))\n",
    "\n",
    "    def __len__(self):\n",
    "        \"\"\"\n",
    "        Number of arguments.\n",
    "        :return: integer - number of elements\n",
    "        \"\"\"\n",
    "        return len(self.arguments)\n",
    "\n",
    "\n",
    "t1 = Test(1, 2, 3)\n",
    "print(f\"{t1}\")\n",
    "\n",
    "t2 = Test(1, 2, 3)\n",
    "print(f\"{t1 + t2}\")"
   ]
  },
  {
   "source": [
    "Setattr and Getattr."
   ],
   "cell_type": "markdown",
   "metadata": {}
  },
  {
   "cell_type": "code",
   "execution_count": 19,
   "metadata": {},
   "outputs": [],
   "source": [
    "class Person():\n",
    "    pass"
   ]
  },
  {
   "cell_type": "code",
   "execution_count": 20,
   "metadata": {},
   "outputs": [],
   "source": [
    "person = Person()"
   ]
  },
  {
   "cell_type": "code",
   "execution_count": 21,
   "metadata": {},
   "outputs": [
    {
     "output_type": "stream",
     "name": "stdout",
     "text": [
      "Peter Parker\n"
     ]
    }
   ],
   "source": [
    "person.first = \"Peter\"\n",
    "person.last = \"Parker\"\n",
    "\n",
    "print(person.first, person.last)"
   ]
  },
  {
   "cell_type": "code",
   "execution_count": 22,
   "metadata": {},
   "outputs": [
    {
     "output_type": "stream",
     "name": "stdout",
     "text": [
      "Peter Parker\nParker\n"
     ]
    }
   ],
   "source": [
    "first_name = \"Peter\"\n",
    "last_name = \"Parker\"\n",
    "\n",
    "setattr(person, first_name, last_name)\n",
    "print(person.first, person.last)\n",
    "\n",
    "getattr(person, first_name)\n",
    "print(last_name)"
   ]
  },
  {
   "cell_type": "markdown",
   "metadata": {},
   "source": [
    "Docstring"
   ]
  },
  {
   "cell_type": "code",
   "execution_count": 23,
   "metadata": {},
   "outputs": [
    {
     "output_type": "execute_result",
     "data": {
      "text/plain": [
       "\"OS routines for NT or Posix depending on what system we're on.\\n\\nThis exports:\\n  - all functions from posix or nt, e.g. unlink, stat, etc.\\n  - os.path is either posixpath or ntpath\\n  - os.name is either 'posix' or 'nt'\\n  - os.curdir is a string representing the current directory (always '.')\\n  - os.pardir is a string representing the parent directory (always '..')\\n  - os.sep is the (or a most common) pathname separator ('/' or '\\\\\\\\')\\n  - os.extsep is the extension separator (always '.')\\n  - os.altsep is the alternate pathname separator (None or '/')\\n  - os.pathsep is the component separator used in $PATH etc\\n  - os.linesep is the line separator in text files ('\\\\r' or '\\\\n' or '\\\\r\\\\n')\\n  - os.defpath is the default search path for executables\\n  - os.devnull is the file path of the null device ('/dev/null', etc.)\\n\\nPrograms that import and use 'os' stand a better chance of being\\nportable between different platforms.  Of course, they must then\\nonly use functions that are defined by all platforms (e.g., unlink\\nand opendir), and leave all pathname manipulation to os.path\\n(e.g., split and join).\\n\""
      ]
     },
     "metadata": {},
     "execution_count": 23
    }
   ],
   "source": [
    "import os\n",
    "\n",
    "os.__doc__"
   ]
  },
  {
   "cell_type": "markdown",
   "metadata": {},
   "source": [
    "Hasattr"
   ]
  },
  {
   "cell_type": "code",
   "execution_count": 24,
   "metadata": {},
   "outputs": [
    {
     "output_type": "stream",
     "name": "stdout",
     "text": [
      "Never gets to here...\n"
     ]
    }
   ],
   "source": [
    "import os\n",
    "\n",
    "assert hasattr(os, \"blabla\"), \"Method 'blabla' not found!\"\n",
    "\n",
    "print(\"Never gets to here...\")"
   ]
  },
  {
   "cell_type": "code",
   "execution_count": 25,
   "metadata": {},
   "outputs": [
    {
     "output_type": "stream",
     "name": "stdout",
     "text": [
      "Number: 123\nName: Steve\nGender: M\n"
     ]
    }
   ],
   "source": [
    "class STUDENT:\n",
    "    def __init__(self, number: int, name: str, gender: str):\n",
    "        self.number = number\n",
    "        self.name = name\n",
    "        self.gender = gender\n",
    "\n",
    "\n",
    "student = STUDENT\n",
    "\n",
    "student.number = 123\n",
    "student.name = \"Steve\"\n",
    "student.gender = \"M\"\n",
    "\n",
    "print(f\"Number: {student.number}\")\n",
    "print(f\"Name: {student.name}\")\n",
    "print(f\"Gender: {student.gender}\")"
   ]
  },
  {
   "cell_type": "code",
   "execution_count": 26,
   "metadata": {},
   "outputs": [],
   "source": [
    "class Dog():\n",
    "    def __init__(self, name, age):\n",
    "        self.name = name\n",
    "        self.age = age\n",
    "    \n",
    "    def bark(self):\n",
    "        print(\"Woof, woof\")"
   ]
  },
  {
   "cell_type": "code",
   "execution_count": 27,
   "metadata": {},
   "outputs": [],
   "source": [
    "fido = Dog(name=\"Fido\", age=2)"
   ]
  },
  {
   "cell_type": "code",
   "execution_count": 28,
   "metadata": {},
   "outputs": [
    {
     "output_type": "stream",
     "name": "stdout",
     "text": [
      "Woof, woof\n"
     ]
    }
   ],
   "source": [
    "fido.bark()"
   ]
  },
  {
   "cell_type": "code",
   "execution_count": 29,
   "metadata": {},
   "outputs": [
    {
     "output_type": "execute_result",
     "data": {
      "text/plain": [
       "'Fido'"
      ]
     },
     "metadata": {},
     "execution_count": 29
    }
   ],
   "source": [
    "fido.name"
   ]
  },
  {
   "cell_type": "code",
   "execution_count": 30,
   "metadata": {},
   "outputs": [
    {
     "output_type": "execute_result",
     "data": {
      "text/plain": [
       "2"
      ]
     },
     "metadata": {},
     "execution_count": 30
    }
   ],
   "source": [
    "fido.age"
   ]
  },
  {
   "cell_type": "code",
   "execution_count": 31,
   "metadata": {},
   "outputs": [],
   "source": [
    "fido.age += 1"
   ]
  },
  {
   "cell_type": "code",
   "execution_count": 32,
   "metadata": {},
   "outputs": [
    {
     "output_type": "execute_result",
     "data": {
      "text/plain": [
       "3"
      ]
     },
     "metadata": {},
     "execution_count": 32
    }
   ],
   "source": [
    "fido.age"
   ]
  },
  {
   "cell_type": "code",
   "execution_count": null,
   "metadata": {},
   "outputs": [],
   "source": []
  }
 ],
 "metadata": {
  "language_info": {
   "codemirror_mode": {
    "name": "ipython",
    "version": 3
   },
   "file_extension": ".py",
   "mimetype": "text/x-python",
   "name": "python",
   "nbconvert_exporter": "python",
   "pygments_lexer": "ipython3",
   "version": "3.9.2"
  },
  "orig_nbformat": 2,
  "kernelspec": {
   "name": "python392jvsc74a57bd0ac59ebe37160ed0dfa835113d9b8498d9f09ceb179beaac4002f036b9467c963",
   "display_name": "Python 3.9.2 64-bit"
  }
 },
 "nbformat": 4,
 "nbformat_minor": 2
}