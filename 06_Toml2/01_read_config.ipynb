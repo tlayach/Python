{
 "cells": [
  {
   "cell_type": "markdown",
   "source": [
    "# Toml"
   ],
   "metadata": {
    "collapsed": false
   },
   "id": "94b715c55b51fdb3"
  },
  {
   "cell_type": "code",
   "execution_count": 1,
   "outputs": [],
   "source": [
    "import tomllib"
   ],
   "metadata": {
    "collapsed": false,
    "ExecuteTime": {
     "end_time": "2023-09-22T18:29:18.268341200Z",
     "start_time": "2023-09-22T18:29:18.257558300Z"
    }
   },
   "id": "bd0bc8cf7b7667aa"
  },
  {
   "cell_type": "markdown",
   "source": [
    "Read Toml file."
   ],
   "metadata": {
    "collapsed": false
   },
   "id": "201f1173b67e9ab8"
  },
  {
   "cell_type": "code",
   "execution_count": 2,
   "outputs": [],
   "source": [
    "with open(file=\"config.toml\", mode=\"rb\") as fp:\n",
    "    config = tomllib.load(fp)"
   ],
   "metadata": {
    "collapsed": false,
    "ExecuteTime": {
     "end_time": "2023-09-22T18:29:51.165068Z",
     "start_time": "2023-09-22T18:29:51.154245100Z"
    }
   },
   "id": "805294615da2b391"
  },
  {
   "cell_type": "code",
   "execution_count": 3,
   "outputs": [
    {
     "data": {
      "text/plain": "'Apple'"
     },
     "execution_count": 3,
     "metadata": {},
     "output_type": "execute_result"
    }
   ],
   "source": [
    "config[\"screen\"][\"brand\"]"
   ],
   "metadata": {
    "collapsed": false,
    "ExecuteTime": {
     "end_time": "2023-09-22T18:30:10.081226700Z",
     "start_time": "2023-09-22T18:30:10.061135Z"
    }
   },
   "id": "4d6fadddf3cab244"
  },
  {
   "cell_type": "code",
   "execution_count": 4,
   "outputs": [
    {
     "data": {
      "text/plain": "10"
     },
     "execution_count": 4,
     "metadata": {},
     "output_type": "execute_result"
    }
   ],
   "source": [
    "config[\"screen\"][\"height\"]"
   ],
   "metadata": {
    "collapsed": false,
    "ExecuteTime": {
     "end_time": "2023-09-22T18:30:11.476197100Z",
     "start_time": "2023-09-22T18:30:11.469139700Z"
    }
   },
   "id": "77dc759f614e17b6"
  }
 ],
 "metadata": {
  "kernelspec": {
   "display_name": "Python 3",
   "language": "python",
   "name": "python3"
  },
  "language_info": {
   "codemirror_mode": {
    "name": "ipython",
    "version": 2
   },
   "file_extension": ".py",
   "mimetype": "text/x-python",
   "name": "python",
   "nbconvert_exporter": "python",
   "pygments_lexer": "ipython2",
   "version": "2.7.6"
  }
 },
 "nbformat": 4,
 "nbformat_minor": 5
}
