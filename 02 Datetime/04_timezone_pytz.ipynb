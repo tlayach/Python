{
 "cells": [
  {
   "cell_type": "markdown",
   "source": [
    "# pytz"
   ],
   "metadata": {
    "collapsed": false
   },
   "id": "67f34ea10edd6ba7"
  },
  {
   "cell_type": "markdown",
   "source": [
    "https://pypi.org/project/pytz/"
   ],
   "metadata": {
    "collapsed": false
   },
   "id": "d78fdbdf902c6365"
  },
  {
   "cell_type": "code",
   "execution_count": 1,
   "outputs": [],
   "source": [
    "import datetime\n",
    "import pytz"
   ],
   "metadata": {
    "collapsed": false,
    "ExecuteTime": {
     "end_time": "2023-09-22T00:08:35.970335500Z",
     "start_time": "2023-09-22T00:08:35.870430100Z"
    }
   },
   "id": "1e90b851487366da"
  },
  {
   "cell_type": "markdown",
   "source": [
    "List all timezones."
   ],
   "metadata": {
    "collapsed": false
   },
   "id": "702dae63f906b1ff"
  },
  {
   "cell_type": "code",
   "execution_count": 2,
   "outputs": [
    {
     "data": {
      "text/plain": "['Africa/Abidjan', 'Africa/Accra', 'Africa/Addis_Ababa', 'Africa/Algiers', 'Africa/Asmara', 'Africa/Asmera', 'Africa/Bamako', 'Africa/Bangui', 'Africa/Banjul', 'Africa/Bissau', 'Africa/Blantyre', 'Africa/Brazzaville', 'Africa/Bujumbura', 'Africa/Cairo', 'Africa/Casablanca', 'Africa/Ceuta', 'Africa/Conakry', 'Africa/Dakar', 'Africa/Dar_es_Salaam', 'Africa/Djibouti', 'Africa/Douala', 'Africa/El_Aaiun', 'Africa/Freetown', 'Africa/Gaborone', 'Africa/Harare', 'Africa/Johannesburg', 'Africa/Juba', 'Africa/Kampala', 'Africa/Khartoum', 'Africa/Kigali', 'Africa/Kinshasa', 'Africa/Lagos', 'Africa/Libreville', 'Africa/Lome', 'Africa/Luanda', 'Africa/Lubumbashi', 'Africa/Lusaka', 'Africa/Malabo', 'Africa/Maputo', 'Africa/Maseru', 'Africa/Mbabane', 'Africa/Mogadishu', 'Africa/Monrovia', 'Africa/Nairobi', 'Africa/Ndjamena', 'Africa/Niamey', 'Africa/Nouakchott', 'Africa/Ouagadougou', 'Africa/Porto-Novo', 'Africa/Sao_Tome', 'Africa/Timbuktu', 'Africa/Tripoli', 'Africa/Tunis', 'Africa/Windhoek', 'America/Adak', 'America/Anchorage', 'America/Anguilla', 'America/Antigua', 'America/Araguaina', 'America/Argentina/Buenos_Aires', 'America/Argentina/Catamarca', 'America/Argentina/ComodRivadavia', 'America/Argentina/Cordoba', 'America/Argentina/Jujuy', 'America/Argentina/La_Rioja', 'America/Argentina/Mendoza', 'America/Argentina/Rio_Gallegos', 'America/Argentina/Salta', 'America/Argentina/San_Juan', 'America/Argentina/San_Luis', 'America/Argentina/Tucuman', 'America/Argentina/Ushuaia', 'America/Aruba', 'America/Asuncion', 'America/Atikokan', 'America/Atka', 'America/Bahia', 'America/Bahia_Banderas', 'America/Barbados', 'America/Belem', 'America/Belize', 'America/Blanc-Sablon', 'America/Boa_Vista', 'America/Bogota', 'America/Boise', 'America/Buenos_Aires', 'America/Cambridge_Bay', 'America/Campo_Grande', 'America/Cancun', 'America/Caracas', 'America/Catamarca', 'America/Cayenne', 'America/Cayman', 'America/Chicago', 'America/Chihuahua', 'America/Ciudad_Juarez', 'America/Coral_Harbour', 'America/Cordoba', 'America/Costa_Rica', 'America/Creston', 'America/Cuiaba', 'America/Curacao', 'America/Danmarkshavn', 'America/Dawson', 'America/Dawson_Creek', 'America/Denver', 'America/Detroit', 'America/Dominica', 'America/Edmonton', 'America/Eirunepe', 'America/El_Salvador', 'America/Ensenada', 'America/Fort_Nelson', 'America/Fort_Wayne', 'America/Fortaleza', 'America/Glace_Bay', 'America/Godthab', 'America/Goose_Bay', 'America/Grand_Turk', 'America/Grenada', 'America/Guadeloupe', 'America/Guatemala', 'America/Guayaquil', 'America/Guyana', 'America/Halifax', 'America/Havana', 'America/Hermosillo', 'America/Indiana/Indianapolis', 'America/Indiana/Knox', 'America/Indiana/Marengo', 'America/Indiana/Petersburg', 'America/Indiana/Tell_City', 'America/Indiana/Vevay', 'America/Indiana/Vincennes', 'America/Indiana/Winamac', 'America/Indianapolis', 'America/Inuvik', 'America/Iqaluit', 'America/Jamaica', 'America/Jujuy', 'America/Juneau', 'America/Kentucky/Louisville', 'America/Kentucky/Monticello', 'America/Knox_IN', 'America/Kralendijk', 'America/La_Paz', 'America/Lima', 'America/Los_Angeles', 'America/Louisville', 'America/Lower_Princes', 'America/Maceio', 'America/Managua', 'America/Manaus', 'America/Marigot', 'America/Martinique', 'America/Matamoros', 'America/Mazatlan', 'America/Mendoza', 'America/Menominee', 'America/Merida', 'America/Metlakatla', 'America/Mexico_City', 'America/Miquelon', 'America/Moncton', 'America/Monterrey', 'America/Montevideo', 'America/Montreal', 'America/Montserrat', 'America/Nassau', 'America/New_York', 'America/Nipigon', 'America/Nome', 'America/Noronha', 'America/North_Dakota/Beulah', 'America/North_Dakota/Center', 'America/North_Dakota/New_Salem', 'America/Nuuk', 'America/Ojinaga', 'America/Panama', 'America/Pangnirtung', 'America/Paramaribo', 'America/Phoenix', 'America/Port-au-Prince', 'America/Port_of_Spain', 'America/Porto_Acre', 'America/Porto_Velho', 'America/Puerto_Rico', 'America/Punta_Arenas', 'America/Rainy_River', 'America/Rankin_Inlet', 'America/Recife', 'America/Regina', 'America/Resolute', 'America/Rio_Branco', 'America/Rosario', 'America/Santa_Isabel', 'America/Santarem', 'America/Santiago', 'America/Santo_Domingo', 'America/Sao_Paulo', 'America/Scoresbysund', 'America/Shiprock', 'America/Sitka', 'America/St_Barthelemy', 'America/St_Johns', 'America/St_Kitts', 'America/St_Lucia', 'America/St_Thomas', 'America/St_Vincent', 'America/Swift_Current', 'America/Tegucigalpa', 'America/Thule', 'America/Thunder_Bay', 'America/Tijuana', 'America/Toronto', 'America/Tortola', 'America/Vancouver', 'America/Virgin', 'America/Whitehorse', 'America/Winnipeg', 'America/Yakutat', 'America/Yellowknife', 'Antarctica/Casey', 'Antarctica/Davis', 'Antarctica/DumontDUrville', 'Antarctica/Macquarie', 'Antarctica/Mawson', 'Antarctica/McMurdo', 'Antarctica/Palmer', 'Antarctica/Rothera', 'Antarctica/South_Pole', 'Antarctica/Syowa', 'Antarctica/Troll', 'Antarctica/Vostok', 'Arctic/Longyearbyen', 'Asia/Aden', 'Asia/Almaty', 'Asia/Amman', 'Asia/Anadyr', 'Asia/Aqtau', 'Asia/Aqtobe', 'Asia/Ashgabat', 'Asia/Ashkhabad', 'Asia/Atyrau', 'Asia/Baghdad', 'Asia/Bahrain', 'Asia/Baku', 'Asia/Bangkok', 'Asia/Barnaul', 'Asia/Beirut', 'Asia/Bishkek', 'Asia/Brunei', 'Asia/Calcutta', 'Asia/Chita', 'Asia/Choibalsan', 'Asia/Chongqing', 'Asia/Chungking', 'Asia/Colombo', 'Asia/Dacca', 'Asia/Damascus', 'Asia/Dhaka', 'Asia/Dili', 'Asia/Dubai', 'Asia/Dushanbe', 'Asia/Famagusta', 'Asia/Gaza', 'Asia/Harbin', 'Asia/Hebron', 'Asia/Ho_Chi_Minh', 'Asia/Hong_Kong', 'Asia/Hovd', 'Asia/Irkutsk', 'Asia/Istanbul', 'Asia/Jakarta', 'Asia/Jayapura', 'Asia/Jerusalem', 'Asia/Kabul', 'Asia/Kamchatka', 'Asia/Karachi', 'Asia/Kashgar', 'Asia/Kathmandu', 'Asia/Katmandu', 'Asia/Khandyga', 'Asia/Kolkata', 'Asia/Krasnoyarsk', 'Asia/Kuala_Lumpur', 'Asia/Kuching', 'Asia/Kuwait', 'Asia/Macao', 'Asia/Macau', 'Asia/Magadan', 'Asia/Makassar', 'Asia/Manila', 'Asia/Muscat', 'Asia/Nicosia', 'Asia/Novokuznetsk', 'Asia/Novosibirsk', 'Asia/Omsk', 'Asia/Oral', 'Asia/Phnom_Penh', 'Asia/Pontianak', 'Asia/Pyongyang', 'Asia/Qatar', 'Asia/Qostanay', 'Asia/Qyzylorda', 'Asia/Rangoon', 'Asia/Riyadh', 'Asia/Saigon', 'Asia/Sakhalin', 'Asia/Samarkand', 'Asia/Seoul', 'Asia/Shanghai', 'Asia/Singapore', 'Asia/Srednekolymsk', 'Asia/Taipei', 'Asia/Tashkent', 'Asia/Tbilisi', 'Asia/Tehran', 'Asia/Tel_Aviv', 'Asia/Thimbu', 'Asia/Thimphu', 'Asia/Tokyo', 'Asia/Tomsk', 'Asia/Ujung_Pandang', 'Asia/Ulaanbaatar', 'Asia/Ulan_Bator', 'Asia/Urumqi', 'Asia/Ust-Nera', 'Asia/Vientiane', 'Asia/Vladivostok', 'Asia/Yakutsk', 'Asia/Yangon', 'Asia/Yekaterinburg', 'Asia/Yerevan', 'Atlantic/Azores', 'Atlantic/Bermuda', 'Atlantic/Canary', 'Atlantic/Cape_Verde', 'Atlantic/Faeroe', 'Atlantic/Faroe', 'Atlantic/Jan_Mayen', 'Atlantic/Madeira', 'Atlantic/Reykjavik', 'Atlantic/South_Georgia', 'Atlantic/St_Helena', 'Atlantic/Stanley', 'Australia/ACT', 'Australia/Adelaide', 'Australia/Brisbane', 'Australia/Broken_Hill', 'Australia/Canberra', 'Australia/Currie', 'Australia/Darwin', 'Australia/Eucla', 'Australia/Hobart', 'Australia/LHI', 'Australia/Lindeman', 'Australia/Lord_Howe', 'Australia/Melbourne', 'Australia/NSW', 'Australia/North', 'Australia/Perth', 'Australia/Queensland', 'Australia/South', 'Australia/Sydney', 'Australia/Tasmania', 'Australia/Victoria', 'Australia/West', 'Australia/Yancowinna', 'Brazil/Acre', 'Brazil/DeNoronha', 'Brazil/East', 'Brazil/West', 'CET', 'CST6CDT', 'Canada/Atlantic', 'Canada/Central', 'Canada/Eastern', 'Canada/Mountain', 'Canada/Newfoundland', 'Canada/Pacific', 'Canada/Saskatchewan', 'Canada/Yukon', 'Chile/Continental', 'Chile/EasterIsland', 'Cuba', 'EET', 'EST', 'EST5EDT', 'Egypt', 'Eire', 'Etc/GMT', 'Etc/GMT+0', 'Etc/GMT+1', 'Etc/GMT+10', 'Etc/GMT+11', 'Etc/GMT+12', 'Etc/GMT+2', 'Etc/GMT+3', 'Etc/GMT+4', 'Etc/GMT+5', 'Etc/GMT+6', 'Etc/GMT+7', 'Etc/GMT+8', 'Etc/GMT+9', 'Etc/GMT-0', 'Etc/GMT-1', 'Etc/GMT-10', 'Etc/GMT-11', 'Etc/GMT-12', 'Etc/GMT-13', 'Etc/GMT-14', 'Etc/GMT-2', 'Etc/GMT-3', 'Etc/GMT-4', 'Etc/GMT-5', 'Etc/GMT-6', 'Etc/GMT-7', 'Etc/GMT-8', 'Etc/GMT-9', 'Etc/GMT0', 'Etc/Greenwich', 'Etc/UCT', 'Etc/UTC', 'Etc/Universal', 'Etc/Zulu', 'Europe/Amsterdam', 'Europe/Andorra', 'Europe/Astrakhan', 'Europe/Athens', 'Europe/Belfast', 'Europe/Belgrade', 'Europe/Berlin', 'Europe/Bratislava', 'Europe/Brussels', 'Europe/Bucharest', 'Europe/Budapest', 'Europe/Busingen', 'Europe/Chisinau', 'Europe/Copenhagen', 'Europe/Dublin', 'Europe/Gibraltar', 'Europe/Guernsey', 'Europe/Helsinki', 'Europe/Isle_of_Man', 'Europe/Istanbul', 'Europe/Jersey', 'Europe/Kaliningrad', 'Europe/Kiev', 'Europe/Kirov', 'Europe/Kyiv', 'Europe/Lisbon', 'Europe/Ljubljana', 'Europe/London', 'Europe/Luxembourg', 'Europe/Madrid', 'Europe/Malta', 'Europe/Mariehamn', 'Europe/Minsk', 'Europe/Monaco', 'Europe/Moscow', 'Europe/Nicosia', 'Europe/Oslo', 'Europe/Paris', 'Europe/Podgorica', 'Europe/Prague', 'Europe/Riga', 'Europe/Rome', 'Europe/Samara', 'Europe/San_Marino', 'Europe/Sarajevo', 'Europe/Saratov', 'Europe/Simferopol', 'Europe/Skopje', 'Europe/Sofia', 'Europe/Stockholm', 'Europe/Tallinn', 'Europe/Tirane', 'Europe/Tiraspol', 'Europe/Ulyanovsk', 'Europe/Uzhgorod', 'Europe/Vaduz', 'Europe/Vatican', 'Europe/Vienna', 'Europe/Vilnius', 'Europe/Volgograd', 'Europe/Warsaw', 'Europe/Zagreb', 'Europe/Zaporozhye', 'Europe/Zurich', 'GB', 'GB-Eire', 'GMT', 'GMT+0', 'GMT-0', 'GMT0', 'Greenwich', 'HST', 'Hongkong', 'Iceland', 'Indian/Antananarivo', 'Indian/Chagos', 'Indian/Christmas', 'Indian/Cocos', 'Indian/Comoro', 'Indian/Kerguelen', 'Indian/Mahe', 'Indian/Maldives', 'Indian/Mauritius', 'Indian/Mayotte', 'Indian/Reunion', 'Iran', 'Israel', 'Jamaica', 'Japan', 'Kwajalein', 'Libya', 'MET', 'MST', 'MST7MDT', 'Mexico/BajaNorte', 'Mexico/BajaSur', 'Mexico/General', 'NZ', 'NZ-CHAT', 'Navajo', 'PRC', 'PST8PDT', 'Pacific/Apia', 'Pacific/Auckland', 'Pacific/Bougainville', 'Pacific/Chatham', 'Pacific/Chuuk', 'Pacific/Easter', 'Pacific/Efate', 'Pacific/Enderbury', 'Pacific/Fakaofo', 'Pacific/Fiji', 'Pacific/Funafuti', 'Pacific/Galapagos', 'Pacific/Gambier', 'Pacific/Guadalcanal', 'Pacific/Guam', 'Pacific/Honolulu', 'Pacific/Johnston', 'Pacific/Kanton', 'Pacific/Kiritimati', 'Pacific/Kosrae', 'Pacific/Kwajalein', 'Pacific/Majuro', 'Pacific/Marquesas', 'Pacific/Midway', 'Pacific/Nauru', 'Pacific/Niue', 'Pacific/Norfolk', 'Pacific/Noumea', 'Pacific/Pago_Pago', 'Pacific/Palau', 'Pacific/Pitcairn', 'Pacific/Pohnpei', 'Pacific/Ponape', 'Pacific/Port_Moresby', 'Pacific/Rarotonga', 'Pacific/Saipan', 'Pacific/Samoa', 'Pacific/Tahiti', 'Pacific/Tarawa', 'Pacific/Tongatapu', 'Pacific/Truk', 'Pacific/Wake', 'Pacific/Wallis', 'Pacific/Yap', 'Poland', 'Portugal', 'ROC', 'ROK', 'Singapore', 'Turkey', 'UCT', 'US/Alaska', 'US/Aleutian', 'US/Arizona', 'US/Central', 'US/East-Indiana', 'US/Eastern', 'US/Hawaii', 'US/Indiana-Starke', 'US/Michigan', 'US/Mountain', 'US/Pacific', 'US/Samoa', 'UTC', 'Universal', 'W-SU', 'WET', 'Zulu']"
     },
     "execution_count": 2,
     "metadata": {},
     "output_type": "execute_result"
    }
   ],
   "source": [
    "pytz.all_timezones"
   ],
   "metadata": {
    "collapsed": false,
    "ExecuteTime": {
     "end_time": "2023-09-22T00:08:37.840201600Z",
     "start_time": "2023-09-22T00:08:35.888335800Z"
    }
   },
   "id": "502f757469a4e4ed"
  },
  {
   "cell_type": "code",
   "execution_count": 3,
   "outputs": [
    {
     "name": "stdout",
     "output_type": "stream",
     "text": [
      "AD ['Europe/Andorra']\n",
      "AE ['Asia/Dubai']\n",
      "AF ['Asia/Kabul']\n",
      "AG ['America/Antigua']\n",
      "AI ['America/Anguilla']\n",
      "AL ['Europe/Tirane']\n",
      "AM ['Asia/Yerevan']\n",
      "AO ['Africa/Luanda']\n",
      "AQ ['Antarctica/McMurdo', 'Antarctica/Casey', 'Antarctica/Davis', 'Antarctica/DumontDUrville', 'Antarctica/Mawson', 'Antarctica/Palmer', 'Antarctica/Rothera', 'Antarctica/Syowa', 'Antarctica/Troll', 'Antarctica/Vostok']\n",
      "AR ['America/Argentina/Buenos_Aires', 'America/Argentina/Cordoba', 'America/Argentina/Salta', 'America/Argentina/Jujuy', 'America/Argentina/Tucuman', 'America/Argentina/Catamarca', 'America/Argentina/La_Rioja', 'America/Argentina/San_Juan', 'America/Argentina/Mendoza', 'America/Argentina/San_Luis', 'America/Argentina/Rio_Gallegos', 'America/Argentina/Ushuaia']\n",
      "AS ['Pacific/Pago_Pago']\n",
      "AT ['Europe/Vienna']\n",
      "AU ['Australia/Lord_Howe', 'Antarctica/Macquarie', 'Australia/Hobart', 'Australia/Melbourne', 'Australia/Sydney', 'Australia/Broken_Hill', 'Australia/Brisbane', 'Australia/Lindeman', 'Australia/Adelaide', 'Australia/Darwin', 'Australia/Perth', 'Australia/Eucla']\n",
      "AW ['America/Aruba']\n",
      "AX ['Europe/Mariehamn']\n",
      "AZ ['Asia/Baku']\n",
      "BA ['Europe/Sarajevo']\n",
      "BB ['America/Barbados']\n",
      "BD ['Asia/Dhaka']\n",
      "BE ['Europe/Brussels']\n",
      "BF ['Africa/Ouagadougou']\n",
      "BG ['Europe/Sofia']\n",
      "BH ['Asia/Bahrain']\n",
      "BI ['Africa/Bujumbura']\n",
      "BJ ['Africa/Porto-Novo']\n",
      "BL ['America/St_Barthelemy']\n",
      "BM ['Atlantic/Bermuda']\n",
      "BN ['Asia/Brunei']\n",
      "BO ['America/La_Paz']\n",
      "BQ ['America/Kralendijk']\n",
      "BR ['America/Noronha', 'America/Belem', 'America/Fortaleza', 'America/Recife', 'America/Araguaina', 'America/Maceio', 'America/Bahia', 'America/Sao_Paulo', 'America/Campo_Grande', 'America/Cuiaba', 'America/Santarem', 'America/Porto_Velho', 'America/Boa_Vista', 'America/Manaus', 'America/Eirunepe', 'America/Rio_Branco']\n",
      "BS ['America/Nassau']\n",
      "BT ['Asia/Thimphu']\n",
      "BW ['Africa/Gaborone']\n",
      "BY ['Europe/Minsk']\n",
      "BZ ['America/Belize']\n",
      "CA ['America/St_Johns', 'America/Halifax', 'America/Glace_Bay', 'America/Moncton', 'America/Goose_Bay', 'America/Blanc-Sablon', 'America/Toronto', 'America/Iqaluit', 'America/Atikokan', 'America/Winnipeg', 'America/Resolute', 'America/Rankin_Inlet', 'America/Regina', 'America/Swift_Current', 'America/Edmonton', 'America/Cambridge_Bay', 'America/Inuvik', 'America/Creston', 'America/Dawson_Creek', 'America/Fort_Nelson', 'America/Whitehorse', 'America/Dawson', 'America/Vancouver']\n",
      "CC ['Indian/Cocos']\n",
      "CD ['Africa/Kinshasa', 'Africa/Lubumbashi']\n",
      "CF ['Africa/Bangui']\n",
      "CG ['Africa/Brazzaville']\n",
      "CH ['Europe/Zurich']\n",
      "CI ['Africa/Abidjan']\n",
      "CK ['Pacific/Rarotonga']\n",
      "CL ['America/Santiago', 'America/Punta_Arenas', 'Pacific/Easter']\n",
      "CM ['Africa/Douala']\n",
      "CN ['Asia/Shanghai', 'Asia/Urumqi']\n",
      "CO ['America/Bogota']\n",
      "CR ['America/Costa_Rica']\n",
      "CU ['America/Havana']\n",
      "CV ['Atlantic/Cape_Verde']\n",
      "CW ['America/Curacao']\n",
      "CX ['Indian/Christmas']\n",
      "CY ['Asia/Nicosia', 'Asia/Famagusta']\n",
      "CZ ['Europe/Prague']\n",
      "DE ['Europe/Berlin', 'Europe/Busingen']\n",
      "DJ ['Africa/Djibouti']\n",
      "DK ['Europe/Copenhagen']\n",
      "DM ['America/Dominica']\n",
      "DO ['America/Santo_Domingo']\n",
      "DZ ['Africa/Algiers']\n",
      "EC ['America/Guayaquil', 'Pacific/Galapagos']\n",
      "EE ['Europe/Tallinn']\n",
      "EG ['Africa/Cairo']\n",
      "EH ['Africa/El_Aaiun']\n",
      "ER ['Africa/Asmara']\n",
      "ES ['Europe/Madrid', 'Africa/Ceuta', 'Atlantic/Canary']\n",
      "ET ['Africa/Addis_Ababa']\n",
      "FI ['Europe/Helsinki']\n",
      "FJ ['Pacific/Fiji']\n",
      "FK ['Atlantic/Stanley']\n",
      "FM ['Pacific/Chuuk', 'Pacific/Pohnpei', 'Pacific/Kosrae']\n",
      "FO ['Atlantic/Faroe']\n",
      "FR ['Europe/Paris']\n",
      "GA ['Africa/Libreville']\n",
      "GB ['Europe/London']\n",
      "GD ['America/Grenada']\n",
      "GE ['Asia/Tbilisi']\n",
      "GF ['America/Cayenne']\n",
      "GG ['Europe/Guernsey']\n",
      "GH ['Africa/Accra']\n",
      "GI ['Europe/Gibraltar']\n",
      "GL ['America/Nuuk', 'America/Danmarkshavn', 'America/Scoresbysund', 'America/Thule']\n",
      "GM ['Africa/Banjul']\n",
      "GN ['Africa/Conakry']\n",
      "GP ['America/Guadeloupe']\n",
      "GQ ['Africa/Malabo']\n",
      "GR ['Europe/Athens']\n",
      "GS ['Atlantic/South_Georgia']\n",
      "GT ['America/Guatemala']\n",
      "GU ['Pacific/Guam']\n",
      "GW ['Africa/Bissau']\n",
      "GY ['America/Guyana']\n",
      "HK ['Asia/Hong_Kong']\n",
      "HN ['America/Tegucigalpa']\n",
      "HR ['Europe/Zagreb']\n",
      "HT ['America/Port-au-Prince']\n",
      "HU ['Europe/Budapest']\n",
      "ID ['Asia/Jakarta', 'Asia/Pontianak', 'Asia/Makassar', 'Asia/Jayapura']\n",
      "IE ['Europe/Dublin']\n",
      "IL ['Asia/Jerusalem']\n",
      "IM ['Europe/Isle_of_Man']\n",
      "IN ['Asia/Kolkata']\n",
      "IO ['Indian/Chagos']\n",
      "IQ ['Asia/Baghdad']\n",
      "IR ['Asia/Tehran']\n",
      "IS ['Atlantic/Reykjavik']\n",
      "IT ['Europe/Rome']\n",
      "JE ['Europe/Jersey']\n",
      "JM ['America/Jamaica']\n",
      "JO ['Asia/Amman']\n",
      "JP ['Asia/Tokyo']\n",
      "KE ['Africa/Nairobi']\n",
      "KG ['Asia/Bishkek']\n",
      "KH ['Asia/Phnom_Penh']\n",
      "KI ['Pacific/Tarawa', 'Pacific/Kanton', 'Pacific/Kiritimati']\n",
      "KM ['Indian/Comoro']\n",
      "KN ['America/St_Kitts']\n",
      "KP ['Asia/Pyongyang']\n",
      "KR ['Asia/Seoul']\n",
      "KW ['Asia/Kuwait']\n",
      "KY ['America/Cayman']\n",
      "KZ ['Asia/Almaty', 'Asia/Qyzylorda', 'Asia/Qostanay', 'Asia/Aqtobe', 'Asia/Aqtau', 'Asia/Atyrau', 'Asia/Oral']\n",
      "LA ['Asia/Vientiane']\n",
      "LB ['Asia/Beirut']\n",
      "LC ['America/St_Lucia']\n",
      "LI ['Europe/Vaduz']\n",
      "LK ['Asia/Colombo']\n",
      "LR ['Africa/Monrovia']\n",
      "LS ['Africa/Maseru']\n",
      "LT ['Europe/Vilnius']\n",
      "LU ['Europe/Luxembourg']\n",
      "LV ['Europe/Riga']\n",
      "LY ['Africa/Tripoli']\n",
      "MA ['Africa/Casablanca']\n",
      "MC ['Europe/Monaco']\n",
      "MD ['Europe/Chisinau']\n",
      "ME ['Europe/Podgorica']\n",
      "MF ['America/Marigot']\n",
      "MG ['Indian/Antananarivo']\n",
      "MH ['Pacific/Majuro', 'Pacific/Kwajalein']\n",
      "MK ['Europe/Skopje']\n",
      "ML ['Africa/Bamako']\n",
      "MM ['Asia/Yangon']\n",
      "MN ['Asia/Ulaanbaatar', 'Asia/Hovd', 'Asia/Choibalsan']\n",
      "MO ['Asia/Macau']\n",
      "MP ['Pacific/Saipan']\n",
      "MQ ['America/Martinique']\n",
      "MR ['Africa/Nouakchott']\n",
      "MS ['America/Montserrat']\n",
      "MT ['Europe/Malta']\n",
      "MU ['Indian/Mauritius']\n",
      "MV ['Indian/Maldives']\n",
      "MW ['Africa/Blantyre']\n",
      "MX ['America/Mexico_City', 'America/Cancun', 'America/Merida', 'America/Monterrey', 'America/Matamoros', 'America/Chihuahua', 'America/Ciudad_Juarez', 'America/Ojinaga', 'America/Mazatlan', 'America/Bahia_Banderas', 'America/Hermosillo', 'America/Tijuana']\n",
      "MY ['Asia/Kuala_Lumpur', 'Asia/Kuching']\n",
      "MZ ['Africa/Maputo']\n",
      "NA ['Africa/Windhoek']\n",
      "NC ['Pacific/Noumea']\n",
      "NE ['Africa/Niamey']\n",
      "NF ['Pacific/Norfolk']\n",
      "NG ['Africa/Lagos']\n",
      "NI ['America/Managua']\n",
      "NL ['Europe/Amsterdam']\n",
      "NO ['Europe/Oslo']\n",
      "NP ['Asia/Kathmandu']\n",
      "NR ['Pacific/Nauru']\n",
      "NU ['Pacific/Niue']\n",
      "NZ ['Pacific/Auckland', 'Pacific/Chatham']\n",
      "OM ['Asia/Muscat']\n",
      "PA ['America/Panama']\n",
      "PE ['America/Lima']\n",
      "PF ['Pacific/Tahiti', 'Pacific/Marquesas', 'Pacific/Gambier']\n",
      "PG ['Pacific/Port_Moresby', 'Pacific/Bougainville']\n",
      "PH ['Asia/Manila']\n",
      "PK ['Asia/Karachi']\n",
      "PL ['Europe/Warsaw']\n",
      "PM ['America/Miquelon']\n",
      "PN ['Pacific/Pitcairn']\n",
      "PR ['America/Puerto_Rico']\n",
      "PS ['Asia/Gaza', 'Asia/Hebron']\n",
      "PT ['Europe/Lisbon', 'Atlantic/Madeira', 'Atlantic/Azores']\n",
      "PW ['Pacific/Palau']\n",
      "PY ['America/Asuncion']\n",
      "QA ['Asia/Qatar']\n",
      "RE ['Indian/Reunion']\n",
      "RO ['Europe/Bucharest']\n",
      "RS ['Europe/Belgrade']\n",
      "RU ['Europe/Kaliningrad', 'Europe/Moscow', 'Europe/Kirov', 'Europe/Volgograd', 'Europe/Astrakhan', 'Europe/Saratov', 'Europe/Ulyanovsk', 'Europe/Samara', 'Asia/Yekaterinburg', 'Asia/Omsk', 'Asia/Novosibirsk', 'Asia/Barnaul', 'Asia/Tomsk', 'Asia/Novokuznetsk', 'Asia/Krasnoyarsk', 'Asia/Irkutsk', 'Asia/Chita', 'Asia/Yakutsk', 'Asia/Khandyga', 'Asia/Vladivostok', 'Asia/Ust-Nera', 'Asia/Magadan', 'Asia/Sakhalin', 'Asia/Srednekolymsk', 'Asia/Kamchatka', 'Asia/Anadyr']\n",
      "UA ['Europe/Simferopol', 'Europe/Kyiv']\n",
      "RW ['Africa/Kigali']\n",
      "SA ['Asia/Riyadh']\n",
      "SB ['Pacific/Guadalcanal']\n",
      "SC ['Indian/Mahe']\n",
      "SD ['Africa/Khartoum']\n",
      "SE ['Europe/Stockholm']\n",
      "SG ['Asia/Singapore']\n",
      "SH ['Atlantic/St_Helena']\n",
      "SI ['Europe/Ljubljana']\n",
      "SJ ['Arctic/Longyearbyen']\n",
      "SK ['Europe/Bratislava']\n",
      "SL ['Africa/Freetown']\n",
      "SM ['Europe/San_Marino']\n",
      "SN ['Africa/Dakar']\n",
      "SO ['Africa/Mogadishu']\n",
      "SR ['America/Paramaribo']\n",
      "SS ['Africa/Juba']\n",
      "ST ['Africa/Sao_Tome']\n",
      "SV ['America/El_Salvador']\n",
      "SX ['America/Lower_Princes']\n",
      "SY ['Asia/Damascus']\n",
      "SZ ['Africa/Mbabane']\n",
      "TC ['America/Grand_Turk']\n",
      "TD ['Africa/Ndjamena']\n",
      "TF ['Indian/Kerguelen']\n",
      "TG ['Africa/Lome']\n",
      "TH ['Asia/Bangkok']\n",
      "TJ ['Asia/Dushanbe']\n",
      "TK ['Pacific/Fakaofo']\n",
      "TL ['Asia/Dili']\n",
      "TM ['Asia/Ashgabat']\n",
      "TN ['Africa/Tunis']\n",
      "TO ['Pacific/Tongatapu']\n",
      "TR ['Europe/Istanbul']\n",
      "TT ['America/Port_of_Spain']\n",
      "TV ['Pacific/Funafuti']\n",
      "TW ['Asia/Taipei']\n",
      "TZ ['Africa/Dar_es_Salaam']\n",
      "UG ['Africa/Kampala']\n",
      "UM ['Pacific/Midway', 'Pacific/Wake']\n",
      "US ['America/New_York', 'America/Detroit', 'America/Kentucky/Louisville', 'America/Kentucky/Monticello', 'America/Indiana/Indianapolis', 'America/Indiana/Vincennes', 'America/Indiana/Winamac', 'America/Indiana/Marengo', 'America/Indiana/Petersburg', 'America/Indiana/Vevay', 'America/Chicago', 'America/Indiana/Tell_City', 'America/Indiana/Knox', 'America/Menominee', 'America/North_Dakota/Center', 'America/North_Dakota/New_Salem', 'America/North_Dakota/Beulah', 'America/Denver', 'America/Boise', 'America/Phoenix', 'America/Los_Angeles', 'America/Anchorage', 'America/Juneau', 'America/Sitka', 'America/Metlakatla', 'America/Yakutat', 'America/Nome', 'America/Adak', 'Pacific/Honolulu']\n",
      "UY ['America/Montevideo']\n",
      "UZ ['Asia/Samarkand', 'Asia/Tashkent']\n",
      "VA ['Europe/Vatican']\n",
      "VC ['America/St_Vincent']\n",
      "VE ['America/Caracas']\n",
      "VG ['America/Tortola']\n",
      "VI ['America/St_Thomas']\n",
      "VN ['Asia/Ho_Chi_Minh']\n",
      "VU ['Pacific/Efate']\n",
      "WF ['Pacific/Wallis']\n",
      "WS ['Pacific/Apia']\n",
      "YE ['Asia/Aden']\n",
      "YT ['Indian/Mayotte']\n",
      "ZA ['Africa/Johannesburg']\n",
      "ZM ['Africa/Lusaka']\n",
      "ZW ['Africa/Harare']\n"
     ]
    }
   ],
   "source": [
    "for x, y in pytz.country_timezones.items():\n",
    "    print(x, y)"
   ],
   "metadata": {
    "collapsed": false,
    "ExecuteTime": {
     "end_time": "2023-09-22T00:08:37.857100200Z",
     "start_time": "2023-09-22T00:08:37.837201600Z"
    }
   },
   "id": "c9c8ff0db56b00e4"
  },
  {
   "cell_type": "markdown",
   "source": [
    "New York timezone."
   ],
   "metadata": {
    "collapsed": false
   },
   "id": "238209de9d99e9b1"
  },
  {
   "cell_type": "code",
   "execution_count": 4,
   "outputs": [
    {
     "data": {
      "text/plain": "<DstTzInfo 'America/New_York' LMT-1 day, 19:04:00 STD>"
     },
     "execution_count": 4,
     "metadata": {},
     "output_type": "execute_result"
    }
   ],
   "source": [
    "pytz.timezone(\"America/New_York\")"
   ],
   "metadata": {
    "collapsed": false,
    "ExecuteTime": {
     "end_time": "2023-09-22T00:08:37.888967300Z",
     "start_time": "2023-09-22T00:08:37.856142600Z"
    }
   },
   "id": "8ece893a4799b9a4"
  },
  {
   "cell_type": "code",
   "execution_count": 5,
   "outputs": [
    {
     "data": {
      "text/plain": "'20:08:37'"
     },
     "execution_count": 5,
     "metadata": {},
     "output_type": "execute_result"
    }
   ],
   "source": [
    "ny_tz = pytz.timezone(\"America/New_York\")\n",
    "ny_datetime = datetime.datetime.now(ny_tz)\n",
    "ny_datetime.strftime(\"%H:%M:%S\")"
   ],
   "metadata": {
    "collapsed": false,
    "ExecuteTime": {
     "end_time": "2023-09-22T00:08:37.890965200Z",
     "start_time": "2023-09-22T00:08:37.864402900Z"
    }
   },
   "id": "e46c3fd5f540ced8"
  },
  {
   "cell_type": "markdown",
   "source": [
    "Santiago timezone."
   ],
   "metadata": {
    "collapsed": false
   },
   "id": "231b08ef671abf78"
  },
  {
   "cell_type": "code",
   "execution_count": 6,
   "outputs": [
    {
     "data": {
      "text/plain": "<DstTzInfo 'America/Santiago' LMT-1 day, 19:17:00 STD>"
     },
     "execution_count": 6,
     "metadata": {},
     "output_type": "execute_result"
    }
   ],
   "source": [
    "pytz.timezone(\"America/Santiago\")"
   ],
   "metadata": {
    "collapsed": false,
    "ExecuteTime": {
     "end_time": "2023-09-22T00:08:37.890965200Z",
     "start_time": "2023-09-22T00:08:37.868207Z"
    }
   },
   "id": "a2fdc7feb2279744"
  },
  {
   "cell_type": "code",
   "execution_count": 7,
   "outputs": [
    {
     "data": {
      "text/plain": "'21:08:37'"
     },
     "execution_count": 7,
     "metadata": {},
     "output_type": "execute_result"
    }
   ],
   "source": [
    "chile_tz = pytz.timezone(\"America/Santiago\")\n",
    "chile_datetime = datetime.datetime.now(chile_tz)\n",
    "chile_datetime.strftime(\"%H:%M:%S\")"
   ],
   "metadata": {
    "collapsed": false,
    "ExecuteTime": {
     "end_time": "2023-09-22T00:08:37.891964300Z",
     "start_time": "2023-09-22T00:08:37.877391700Z"
    }
   },
   "id": "d99d98f3b43f200"
  },
  {
   "cell_type": "code",
   "execution_count": 8,
   "outputs": [
    {
     "data": {
      "text/plain": "'America/Santiago'"
     },
     "execution_count": 8,
     "metadata": {},
     "output_type": "execute_result"
    }
   ],
   "source": [
    "chile_tz.zone"
   ],
   "metadata": {
    "collapsed": false,
    "ExecuteTime": {
     "end_time": "2023-09-22T00:08:37.909707300Z",
     "start_time": "2023-09-22T00:08:37.885666600Z"
    }
   },
   "id": "efc743f5cf01d323"
  },
  {
   "cell_type": "code",
   "execution_count": 9,
   "outputs": [
    {
     "data": {
      "text/plain": "<bound method DstTzInfo.dst of <DstTzInfo 'America/Santiago' LMT-1 day, 19:17:00 STD>>"
     },
     "execution_count": 9,
     "metadata": {},
     "output_type": "execute_result"
    }
   ],
   "source": [
    "chile_tz.dst"
   ],
   "metadata": {
    "collapsed": false,
    "ExecuteTime": {
     "end_time": "2023-09-22T00:08:37.910703400Z",
     "start_time": "2023-09-22T00:08:37.893962900Z"
    }
   },
   "id": "9442a5f747bb789"
  },
  {
   "cell_type": "code",
   "execution_count": 10,
   "outputs": [
    {
     "data": {
      "text/plain": "<bound method DstTzInfo.utcoffset of <DstTzInfo 'America/Santiago' LMT-1 day, 19:17:00 STD>>"
     },
     "execution_count": 10,
     "metadata": {},
     "output_type": "execute_result"
    }
   ],
   "source": [
    "chile_tz.utcoffset"
   ],
   "metadata": {
    "collapsed": false,
    "ExecuteTime": {
     "end_time": "2023-09-22T00:08:37.910703400Z",
     "start_time": "2023-09-22T00:08:37.900910300Z"
    }
   },
   "id": "a4667ccae8e5128"
  },
  {
   "cell_type": "code",
   "execution_count": 11,
   "outputs": [
    {
     "data": {
      "text/plain": "'-0300'"
     },
     "execution_count": 11,
     "metadata": {},
     "output_type": "execute_result"
    }
   ],
   "source": [
    "datetime.datetime.now(pytz.timezone(\"America/Santiago\")).strftime(\"%z\")"
   ],
   "metadata": {
    "collapsed": false,
    "ExecuteTime": {
     "end_time": "2023-09-22T00:08:37.921738800Z",
     "start_time": "2023-09-22T00:08:37.909707300Z"
    }
   },
   "id": "24d5a3e96b280274"
  }
 ],
 "metadata": {
  "kernelspec": {
   "display_name": "Python 3",
   "language": "python",
   "name": "python3"
  },
  "language_info": {
   "codemirror_mode": {
    "name": "ipython",
    "version": 2
   },
   "file_extension": ".py",
   "mimetype": "text/x-python",
   "name": "python",
   "nbconvert_exporter": "python",
   "pygments_lexer": "ipython2",
   "version": "2.7.6"
  }
 },
 "nbformat": 4,
 "nbformat_minor": 5
}
